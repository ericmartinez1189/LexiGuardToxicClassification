{
 "cells": [
  {
   "cell_type": "markdown",
   "metadata": {
    "editable": true,
    "slideshow": {
     "slide_type": ""
    },
    "tags": []
   },
   "source": [
    "# Modelling Random Forest Classifier \n"
   ]
  },
  {
   "cell_type": "markdown",
   "metadata": {},
   "source": [
    "## Imports"
   ]
  },
  {
   "cell_type": "code",
   "execution_count": 1,
   "metadata": {},
   "outputs": [],
   "source": [
    "import pandas as pd\n",
    "import nltk\n",
    "import matplotlib.pyplot as plt\n",
    "import numpy as np\n",
    "import pickle\n",
    "import time\n",
    "import spacy\n",
    "from sklearn.preprocessing import MinMaxScaler\n",
    "from sklearn.naive_bayes import MultinomialNB\n",
    "#import lightgbm as lgb\n",
    "\n",
    "from tqdm import tqdm\n",
    "\n",
    "from sklearn.feature_extraction.text import CountVectorizer\n",
    "from sklearn.feature_extraction.text import TfidfVectorizer\n",
    "from sklearn.model_selection import train_test_split\n",
    "from sklearn.ensemble import RandomForestClassifier\n",
    "from sklearn.metrics import accuracy_score, f1_score, roc_auc_score, precision_score, recall_score, confusion_matrix\n",
    "from gensim.models import Word2Vec\n",
    "from sklearn.metrics.pairwise import cosine_similarity\n"
   ]
  },
  {
   "cell_type": "code",
   "execution_count": 3,
   "metadata": {},
   "outputs": [],
   "source": [
    "#this initialize tqdm which is useful to show a progress bar when applying operations in a pandas df\n",
    "tqdm.pandas()"
   ]
  },
  {
   "cell_type": "markdown",
   "metadata": {},
   "source": [
    "## Data ExtracT"
   ]
  },
  {
   "cell_type": "code",
   "execution_count": 12,
   "metadata": {},
   "outputs": [],
   "source": [
    "df = pd.read_csv('data/data_usampl_60_40_cleaned.csv')\n"
   ]
  },
  {
   "cell_type": "code",
   "execution_count": 13,
   "metadata": {},
   "outputs": [
    {
     "data": {
      "text/plain": [
       "Index(['raw', 'clean', 'clean_pp', 'clean_pp_lemma', 'clean_pp_lemma_stop',\n",
       "       'toxic'],\n",
       "      dtype='object')"
      ]
     },
     "execution_count": 13,
     "metadata": {},
     "output_type": "execute_result"
    }
   ],
   "source": [
    "df.columns"
   ]
  },
  {
   "cell_type": "markdown",
   "metadata": {},
   "source": [
    "## Function to Calculate"
   ]
  },
  {
   "cell_type": "code",
   "execution_count": 14,
   "metadata": {},
   "outputs": [],
   "source": [
    "# initialize dataframe that will include the results\n",
    "results_df = pd.DataFrame()\n",
    "\n",
    "def evaluate_model(model, X_train,y_train,X_test,y_test, model_name=\"\", parameters='', comments=''):\n",
    "    start_time = time.time()\n",
    "    model.fit(X_train, y_train)\n",
    "    predictions = model.predict(X_test)\n",
    "    duration = time.time() - start_time\n",
    "    duration_format = f\"{int(duration // 60)} minutes and {round(duration % 60, 2)} seconds\"\n",
    "    predicted_probs = model.predict_proba(X_test)[:, 1]\n",
    "\n",
    "    # Calculate metrics using probabilities\n",
    "    accuracy = accuracy_score(y_test, predictions)\n",
    "    f1 = f1_score(y_test, predictions)\n",
    "    roc_auc = roc_auc_score(y_test, predicted_probs)\n",
    "    precision = precision_score(y_test, predictions)\n",
    "    recall = recall_score(y_test, predictions)\n",
    "    conf_matrix = str(confusion_matrix(y_test, predictions))\n",
    "\n",
    "    # Create a dictionary including the results\n",
    "    results = {\n",
    "        'Name': model_name if model_name else model.__class__.__name__,\n",
    "        'Parameters': parameters,\n",
    "        'F1-Score': f1,\n",
    "        'AUC-ROC': roc_auc,\n",
    "        'Precision': precision,\n",
    "        'Recall': recall,\n",
    "        'Accuracy': accuracy,\n",
    "        'Confusion Matrix': conf_matrix,\n",
    "        'Training Time': duration_format,\n",
    "        'Comments': comments\n",
    "    }\n",
    "\n",
    "    return results"
   ]
  },
  {
   "cell_type": "markdown",
   "metadata": {},
   "source": [
    "## RFC"
   ]
  },
  {
   "cell_type": "markdown",
   "metadata": {},
   "source": [
    "### 1. RFC with stopwords_punct_lemma vectorizer Tfidf"
   ]
  },
  {
   "cell_type": "code",
   "execution_count": 15,
   "metadata": {},
   "outputs": [
    {
     "name": "stdout",
     "output_type": "stream",
     "text": [
      "{'Name': 'RandomForestClassifier', 'Parameters': '', 'F1-Score': 0.4649446494464945, 'AUC-ROC': 0.8139334237992326, 'Precision': 0.8513513513513513, 'Recall': 0.3197969543147208, 'Accuracy': 0.71, 'Confusion Matrix': '[[292  11]\\n [134  63]]', 'Training Time': '0 minutes and 4.85 seconds', 'Comments': 'Using stopwords_punct_lemma, vec - TFIDf'}\n"
     ]
    }
   ],
   "source": [
    "X_stop = df['clean_pp_lemma_stop']\n",
    "y_stop = df['toxic']\n",
    "\n",
    "# Initialize TF-IDF Vectorizer\n",
    "tfidf_vectorizer = TfidfVectorizer()\n",
    "\n",
    "# Transform text data into TF-IDF features\n",
    "X_tfidf = tfidf_vectorizer.fit_transform(X_stop)\n",
    "\n",
    "# Split the data into training and testing sets\n",
    "X_train_s, X_test_s, y_train_s, y_test_s = train_test_split(X_tfidf, y_stop, test_size=0.2, random_state=42)\n",
    "\n",
    "# Initialize the RandomForestClassifier\n",
    "rf_model = RandomForestClassifier()\n",
    "\n",
    "# Call the evaluate_model function\n",
    "results = evaluate_model(rf_model, X_train_s, y_train_s, X_test_s, y_test_s, model_name=\"RandomForestClassifier\",parameters=\"\", comments=\"Using stopwords_punct_lemma, vec - TFIDf\")\n",
    "print(results)\n"
   ]
  },
  {
   "cell_type": "code",
   "execution_count": 16,
   "metadata": {},
   "outputs": [],
   "source": [
    "# Convert the dictionary of results into a DataFrame\n",
    "rfc_results_df = pd.DataFrame([results])\n",
    "\n",
    "# Append the results to the main results DataFrame (results_df)\n",
    "results_df = pd.concat([results_df, rfc_results_df], ignore_index=True)"
   ]
  },
  {
   "cell_type": "code",
   "execution_count": 17,
   "metadata": {},
   "outputs": [
    {
     "data": {
      "text/html": [
       "<div>\n",
       "<style scoped>\n",
       "    .dataframe tbody tr th:only-of-type {\n",
       "        vertical-align: middle;\n",
       "    }\n",
       "\n",
       "    .dataframe tbody tr th {\n",
       "        vertical-align: top;\n",
       "    }\n",
       "\n",
       "    .dataframe thead th {\n",
       "        text-align: right;\n",
       "    }\n",
       "</style>\n",
       "<table border=\"1\" class=\"dataframe\">\n",
       "  <thead>\n",
       "    <tr style=\"text-align: right;\">\n",
       "      <th></th>\n",
       "      <th>Name</th>\n",
       "      <th>Parameters</th>\n",
       "      <th>F1-Score</th>\n",
       "      <th>AUC-ROC</th>\n",
       "      <th>Precision</th>\n",
       "      <th>Recall</th>\n",
       "      <th>Accuracy</th>\n",
       "      <th>Confusion Matrix</th>\n",
       "      <th>Training Time</th>\n",
       "      <th>Comments</th>\n",
       "    </tr>\n",
       "  </thead>\n",
       "  <tbody>\n",
       "    <tr>\n",
       "      <th>0</th>\n",
       "      <td>RandomForestClassifier</td>\n",
       "      <td></td>\n",
       "      <td>0.464945</td>\n",
       "      <td>0.813933</td>\n",
       "      <td>0.851351</td>\n",
       "      <td>0.319797</td>\n",
       "      <td>0.71</td>\n",
       "      <td>[[292  11]\\n [134  63]]</td>\n",
       "      <td>0 minutes and 4.85 seconds</td>\n",
       "      <td>Using stopwords_punct_lemma, vec - TFIDf</td>\n",
       "    </tr>\n",
       "  </tbody>\n",
       "</table>\n",
       "</div>"
      ],
      "text/plain": [
       "                     Name Parameters  F1-Score   AUC-ROC  Precision    Recall  \\\n",
       "0  RandomForestClassifier             0.464945  0.813933   0.851351  0.319797   \n",
       "\n",
       "   Accuracy         Confusion Matrix               Training Time  \\\n",
       "0      0.71  [[292  11]\\n [134  63]]  0 minutes and 4.85 seconds   \n",
       "\n",
       "                                   Comments  \n",
       "0  Using stopwords_punct_lemma, vec - TFIDf  "
      ]
     },
     "execution_count": 17,
     "metadata": {},
     "output_type": "execute_result"
    }
   ],
   "source": [
    "results_df"
   ]
  },
  {
   "cell_type": "markdown",
   "metadata": {},
   "source": [
    "### 2. RFC with stopwords_punct_lemma vectorizer word2vec"
   ]
  },
  {
   "cell_type": "code",
   "execution_count": 19,
   "metadata": {},
   "outputs": [],
   "source": [
    "sentences = [text.split() for text in df['clean_pp_lemma_stop']]\n",
    "\n",
    "# Train Word2Vec model\n",
    "word2vec_model = Word2Vec(sentences, vector_size=100, window=5, min_count=1, workers=4)\n",
    "\n",
    "# Transform each text into an average Word2Vec vector\n",
    "word2vec_vectors = []\n",
    "for text in sentences:\n",
    "    vectors = [word2vec_model.wv[word] for word in text if word in word2vec_model.wv]\n",
    "    if vectors:\n",
    "        text_vector = np.mean(vectors, axis=0)\n",
    "        word2vec_vectors.append(text_vector)\n",
    "    else:\n",
    "        # Handle cases where there are no words found in the Word2Vec model\n",
    "        word2vec_vectors.append(np.zeros(word2vec_model.vector_size))\n",
    "\n",
    "# Convert the list of Word2Vec vectors into a matrix\n",
    "X_word2vec = np.vstack(word2vec_vectors)\n",
    "\n",
    "# Split the data into training and testing sets\n",
    "X_train_w2v, X_test_w2v, y_train_w2v, y_test_w2v = train_test_split(X_word2vec, y_stop, test_size=0.2, random_state=42)\n",
    "\n"
   ]
  },
  {
   "cell_type": "code",
   "execution_count": 20,
   "metadata": {},
   "outputs": [],
   "source": [
    "# Initialize the RandomForestClassifier for Word2Vec\n",
    "rf_model_w2v = RandomForestClassifier()\n",
    "\n",
    "# Call the evaluate_model function for Word2Vec\n",
    "results_w2v = evaluate_model(rf_model_w2v, X_train_w2v, y_train_w2v, X_test_w2v, y_test_w2v, model_name=\"RandomForestClassifier\",parameters=\"\", comments=\"Using stopwords_punct_lemma, vec - Word2Vec\")\n",
    "\n",
    "# Convert the dictionary of results into a DataFrame for Word2Vec\n",
    "word2vec_results_df = pd.DataFrame([results_w2v])\n",
    "\n",
    "# Append the Word2Vec results to the main results DataFrame (results_df)\n",
    "results_df = pd.concat([results_df, word2vec_results_df], ignore_index=True)"
   ]
  },
  {
   "cell_type": "code",
   "execution_count": 21,
   "metadata": {},
   "outputs": [
    {
     "data": {
      "text/html": [
       "<div>\n",
       "<style scoped>\n",
       "    .dataframe tbody tr th:only-of-type {\n",
       "        vertical-align: middle;\n",
       "    }\n",
       "\n",
       "    .dataframe tbody tr th {\n",
       "        vertical-align: top;\n",
       "    }\n",
       "\n",
       "    .dataframe thead th {\n",
       "        text-align: right;\n",
       "    }\n",
       "</style>\n",
       "<table border=\"1\" class=\"dataframe\">\n",
       "  <thead>\n",
       "    <tr style=\"text-align: right;\">\n",
       "      <th></th>\n",
       "      <th>Name</th>\n",
       "      <th>Parameters</th>\n",
       "      <th>F1-Score</th>\n",
       "      <th>AUC-ROC</th>\n",
       "      <th>Precision</th>\n",
       "      <th>Recall</th>\n",
       "      <th>Accuracy</th>\n",
       "      <th>Confusion Matrix</th>\n",
       "      <th>Training Time</th>\n",
       "      <th>Comments</th>\n",
       "    </tr>\n",
       "  </thead>\n",
       "  <tbody>\n",
       "    <tr>\n",
       "      <th>0</th>\n",
       "      <td>RandomForestClassifier</td>\n",
       "      <td></td>\n",
       "      <td>0.464945</td>\n",
       "      <td>0.813933</td>\n",
       "      <td>0.851351</td>\n",
       "      <td>0.319797</td>\n",
       "      <td>0.71</td>\n",
       "      <td>[[292  11]\\n [134  63]]</td>\n",
       "      <td>0 minutes and 4.85 seconds</td>\n",
       "      <td>Using stopwords_punct_lemma, vec - TFIDf</td>\n",
       "    </tr>\n",
       "    <tr>\n",
       "      <th>1</th>\n",
       "      <td>RandomForestClassifier</td>\n",
       "      <td></td>\n",
       "      <td>0.324324</td>\n",
       "      <td>0.550870</td>\n",
       "      <td>0.484848</td>\n",
       "      <td>0.243655</td>\n",
       "      <td>0.60</td>\n",
       "      <td>[[252  51]\\n [149  48]]</td>\n",
       "      <td>0 minutes and 2.27 seconds</td>\n",
       "      <td>Using stopwords_punct_lemma, vec - Word2Vec</td>\n",
       "    </tr>\n",
       "  </tbody>\n",
       "</table>\n",
       "</div>"
      ],
      "text/plain": [
       "                     Name Parameters  F1-Score   AUC-ROC  Precision    Recall  \\\n",
       "0  RandomForestClassifier             0.464945  0.813933   0.851351  0.319797   \n",
       "1  RandomForestClassifier             0.324324  0.550870   0.484848  0.243655   \n",
       "\n",
       "   Accuracy         Confusion Matrix               Training Time  \\\n",
       "0      0.71  [[292  11]\\n [134  63]]  0 minutes and 4.85 seconds   \n",
       "1      0.60  [[252  51]\\n [149  48]]  0 minutes and 2.27 seconds   \n",
       "\n",
       "                                      Comments  \n",
       "0     Using stopwords_punct_lemma, vec - TFIDf  \n",
       "1  Using stopwords_punct_lemma, vec - Word2Vec  "
      ]
     },
     "execution_count": 21,
     "metadata": {},
     "output_type": "execute_result"
    }
   ],
   "source": [
    "results_df"
   ]
  },
  {
   "cell_type": "markdown",
   "metadata": {},
   "source": [
    "### 3. RFC with stopwords_punct_lemma + count vectorizer "
   ]
  },
  {
   "cell_type": "code",
   "execution_count": 23,
   "metadata": {},
   "outputs": [],
   "source": [
    "X_c = df['clean_pp_lemma_stop']\n",
    "y_c = df['toxic']\n",
    "\n",
    "# Initialize CountVectorizer\n",
    "count_vectorizer = CountVectorizer()\n",
    "\n",
    "# Transform text data into CountVectorized features\n",
    "X_count = count_vectorizer.fit_transform(X_c)"
   ]
  },
  {
   "cell_type": "code",
   "execution_count": 24,
   "metadata": {},
   "outputs": [],
   "source": [
    "# Split the data into training and testing sets\n",
    "X_train_c, X_test_c, y_train_c, y_test_c = train_test_split(X_count, y_c, test_size=0.2, random_state=42)\n",
    "\n",
    "# Initialize the RandomForestClassifier for CountVectorizer\n",
    "rf_model_c = RandomForestClassifier()\n",
    "\n",
    "# Call the evaluate_model function for CountVectorizer\n",
    "results_c = evaluate_model(rf_model_c, X_train_c, y_train_c, X_test_c, y_test_c, model_name=\"RandomForestClassifier\", parameters=\"\", comments=\"Using stopwords_punct_lemma, vec - CountVectorizer\")\n",
    "\n",
    "# Convert the dictionary of results into a DataFrame for CountVectorizer\n",
    "count_vectorizer_results_df = pd.DataFrame([results_c])\n",
    "\n",
    "# Append the CountVectorizer results to the main results DataFrame (results_df)\n",
    "results_df = pd.concat([results_df, count_vectorizer_results_df], ignore_index=True)"
   ]
  },
  {
   "cell_type": "code",
   "execution_count": 25,
   "metadata": {},
   "outputs": [
    {
     "data": {
      "text/html": [
       "<div>\n",
       "<style scoped>\n",
       "    .dataframe tbody tr th:only-of-type {\n",
       "        vertical-align: middle;\n",
       "    }\n",
       "\n",
       "    .dataframe tbody tr th {\n",
       "        vertical-align: top;\n",
       "    }\n",
       "\n",
       "    .dataframe thead th {\n",
       "        text-align: right;\n",
       "    }\n",
       "</style>\n",
       "<table border=\"1\" class=\"dataframe\">\n",
       "  <thead>\n",
       "    <tr style=\"text-align: right;\">\n",
       "      <th></th>\n",
       "      <th>Name</th>\n",
       "      <th>Parameters</th>\n",
       "      <th>F1-Score</th>\n",
       "      <th>AUC-ROC</th>\n",
       "      <th>Precision</th>\n",
       "      <th>Recall</th>\n",
       "      <th>Accuracy</th>\n",
       "      <th>Confusion Matrix</th>\n",
       "      <th>Training Time</th>\n",
       "      <th>Comments</th>\n",
       "    </tr>\n",
       "  </thead>\n",
       "  <tbody>\n",
       "    <tr>\n",
       "      <th>0</th>\n",
       "      <td>RandomForestClassifier</td>\n",
       "      <td></td>\n",
       "      <td>0.464945</td>\n",
       "      <td>0.813933</td>\n",
       "      <td>0.851351</td>\n",
       "      <td>0.319797</td>\n",
       "      <td>0.710</td>\n",
       "      <td>[[292  11]\\n [134  63]]</td>\n",
       "      <td>0 minutes and 4.85 seconds</td>\n",
       "      <td>Using stopwords_punct_lemma, vec - TFIDf</td>\n",
       "    </tr>\n",
       "    <tr>\n",
       "      <th>1</th>\n",
       "      <td>RandomForestClassifier</td>\n",
       "      <td></td>\n",
       "      <td>0.324324</td>\n",
       "      <td>0.550870</td>\n",
       "      <td>0.484848</td>\n",
       "      <td>0.243655</td>\n",
       "      <td>0.600</td>\n",
       "      <td>[[252  51]\\n [149  48]]</td>\n",
       "      <td>0 minutes and 2.27 seconds</td>\n",
       "      <td>Using stopwords_punct_lemma, vec - Word2Vec</td>\n",
       "    </tr>\n",
       "    <tr>\n",
       "      <th>2</th>\n",
       "      <td>RandomForestClassifier</td>\n",
       "      <td></td>\n",
       "      <td>0.483271</td>\n",
       "      <td>0.844784</td>\n",
       "      <td>0.902778</td>\n",
       "      <td>0.329949</td>\n",
       "      <td>0.722</td>\n",
       "      <td>[[296   7]\\n [132  65]]</td>\n",
       "      <td>0 minutes and 4.87 seconds</td>\n",
       "      <td>Using stopwords_punct_lemma, vec - CountVector...</td>\n",
       "    </tr>\n",
       "  </tbody>\n",
       "</table>\n",
       "</div>"
      ],
      "text/plain": [
       "                     Name Parameters  F1-Score   AUC-ROC  Precision    Recall  \\\n",
       "0  RandomForestClassifier             0.464945  0.813933   0.851351  0.319797   \n",
       "1  RandomForestClassifier             0.324324  0.550870   0.484848  0.243655   \n",
       "2  RandomForestClassifier             0.483271  0.844784   0.902778  0.329949   \n",
       "\n",
       "   Accuracy         Confusion Matrix               Training Time  \\\n",
       "0     0.710  [[292  11]\\n [134  63]]  0 minutes and 4.85 seconds   \n",
       "1     0.600  [[252  51]\\n [149  48]]  0 minutes and 2.27 seconds   \n",
       "2     0.722  [[296   7]\\n [132  65]]  0 minutes and 4.87 seconds   \n",
       "\n",
       "                                            Comments  \n",
       "0           Using stopwords_punct_lemma, vec - TFIDf  \n",
       "1        Using stopwords_punct_lemma, vec - Word2Vec  \n",
       "2  Using stopwords_punct_lemma, vec - CountVector...  "
      ]
     },
     "execution_count": 25,
     "metadata": {},
     "output_type": "execute_result"
    }
   ],
   "source": [
    "results_df"
   ]
  }
 ],
 "metadata": {
  "interpreter": {
   "hash": "7ee5ce8695951d3743acb1574d7cbc518a435066b16546d59d44a9748127e061"
  },
  "kernelspec": {
   "display_name": "Python 3 (ipykernel)",
   "language": "python",
   "name": "python3"
  },
  "language_info": {
   "codemirror_mode": {
    "name": "ipython",
    "version": 3
   },
   "file_extension": ".py",
   "mimetype": "text/x-python",
   "name": "python",
   "nbconvert_exporter": "python",
   "pygments_lexer": "ipython3",
   "version": "3.11.5"
  }
 },
 "nbformat": 4,
 "nbformat_minor": 4
}
