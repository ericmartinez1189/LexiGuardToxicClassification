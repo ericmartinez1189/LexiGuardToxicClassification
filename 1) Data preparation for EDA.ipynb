{
 "cells": [
  {
   "cell_type": "markdown",
   "metadata": {},
   "source": [
    "## <span style=\"color: black;\"><b>Data Cleaning for EDA</b></span>\n"
   ]
  },
  {
   "cell_type": "markdown",
   "metadata": {},
   "source": [
    "### Import"
   ]
  },
  {
   "cell_type": "code",
   "execution_count": 2,
   "metadata": {},
   "outputs": [],
   "source": [
    "import pandas as pd"
   ]
  },
  {
   "cell_type": "markdown",
   "metadata": {},
   "source": [
    "### Data from all_data.csv to merged"
   ]
  },
  {
   "cell_type": "code",
   "execution_count": 3,
   "metadata": {},
   "outputs": [],
   "source": [
    "merged = pd.read_csv('data/all_data.csv')"
   ]
  },
  {
   "cell_type": "code",
   "execution_count": 4,
   "metadata": {},
   "outputs": [
    {
     "name": "stdout",
     "output_type": "stream",
     "text": [
      "No of Columns : 46\n",
      "No of Rows : 1999516\n"
     ]
    }
   ],
   "source": [
    "print(f'No of Columns : {len(merged.columns)}')\n",
    "print(f'No of Rows : {len(merged)}')"
   ]
  },
  {
   "cell_type": "code",
   "execution_count": 5,
   "metadata": {},
   "outputs": [
    {
     "data": {
      "text/plain": [
       "id                                           0\n",
       "comment_text                                 4\n",
       "split                                        0\n",
       "created_date                                 0\n",
       "publication_id                               0\n",
       "parent_id                               864807\n",
       "article_id                                   0\n",
       "rating                                       0\n",
       "funny                                        0\n",
       "wow                                          0\n",
       "sad                                          0\n",
       "likes                                        0\n",
       "disagree                                     0\n",
       "toxicity                                     0\n",
       "severe_toxicity                              0\n",
       "obscene                                      0\n",
       "sexual_explicit                              0\n",
       "identity_attack                              0\n",
       "insult                                       0\n",
       "threat                                       0\n",
       "male                                   1551516\n",
       "female                                 1551516\n",
       "transgender                            1551516\n",
       "other_gender                           1551516\n",
       "heterosexual                           1551516\n",
       "homosexual_gay_or_lesbian              1551516\n",
       "bisexual                               1551516\n",
       "other_sexual_orientation               1551516\n",
       "christian                              1551516\n",
       "jewish                                 1551516\n",
       "muslim                                 1551516\n",
       "hindu                                  1551516\n",
       "buddhist                               1551516\n",
       "atheist                                1551516\n",
       "other_religion                         1551516\n",
       "black                                  1551516\n",
       "white                                  1551516\n",
       "asian                                  1551516\n",
       "latino                                 1551516\n",
       "other_race_or_ethnicity                1551516\n",
       "physical_disability                    1551516\n",
       "intellectual_or_learning_disability    1551516\n",
       "psychiatric_or_mental_illness          1551516\n",
       "other_disability                       1551516\n",
       "identity_annotator_count                     0\n",
       "toxicity_annotator_count                     0\n",
       "dtype: int64"
      ]
     },
     "execution_count": 5,
     "metadata": {},
     "output_type": "execute_result"
    }
   ],
   "source": [
    "merged.isnull().sum()"
   ]
  },
  {
   "cell_type": "markdown",
   "metadata": {},
   "source": [
    "### Data Cleaning"
   ]
  },
  {
   "cell_type": "code",
   "execution_count": 6,
   "metadata": {},
   "outputs": [],
   "source": [
    "# Step 1 - Add new column toxic, toxicity >= 0.5 then toxic = 1 otherwise toxic = 0\n",
    "\n",
    "merged['toxic'] = (merged['toxicity'] >= 0.5).astype(int)"
   ]
  },
  {
   "cell_type": "code",
   "execution_count": 7,
   "metadata": {},
   "outputs": [
    {
     "data": {
      "text/plain": [
       "array([0, 1])"
      ]
     },
     "execution_count": 7,
     "metadata": {},
     "output_type": "execute_result"
    }
   ],
   "source": [
    "merged['toxic'].unique()"
   ]
  },
  {
   "cell_type": "code",
   "execution_count": 8,
   "metadata": {},
   "outputs": [
    {
     "data": {
      "text/plain": [
       "array([0.37313433, 0.60526316, 0.66666667, ..., 0.1       , 0.2       ,\n",
       "       0.4       ])"
      ]
     },
     "execution_count": 8,
     "metadata": {},
     "output_type": "execute_result"
    }
   ],
   "source": [
    "merged['toxicity'].unique()"
   ]
  },
  {
   "cell_type": "code",
   "execution_count": 9,
   "metadata": {},
   "outputs": [],
   "source": [
    "# Step 2\n",
    "# drop rows for below columns where values are NaNs\n",
    "\n",
    "columns_to_check = ['asian', 'atheist', 'bisexual', 'black', 'buddhist', 'christian',\n",
    "                    'female', 'heterosexual', 'hindu', 'homosexual_gay_or_lesbian',\n",
    "                    'intellectual_or_learning_disability', 'jewish', 'latino', 'male',\n",
    "                    'muslim', 'other_disability', 'other_gender', 'other_race_or_ethnicity',\n",
    "                    'other_religion', 'other_sexual_orientation', 'physical_disability',\n",
    "                    'psychiatric_or_mental_illness', 'transgender', 'white']\n",
    "\n",
    "# Drop rows where all specified columns have NaN values\n",
    "merged.dropna(subset=columns_to_check, how='all', inplace=True)\n",
    "\n"
   ]
  },
  {
   "cell_type": "code",
   "execution_count": 10,
   "metadata": {},
   "outputs": [],
   "source": [
    "# Step 3 - Drop columns parent_id, publication_id, article_id\n",
    "\n",
    "columns_to_drop = ['parent_id', 'publication_id', 'article_id']\n",
    "merged = merged.drop(columns=columns_to_drop)"
   ]
  },
  {
   "cell_type": "code",
   "execution_count": 11,
   "metadata": {},
   "outputs": [],
   "source": [
    "# Step 4 - remove NaNs columns of comment_text\n",
    "\n",
    "# comment_text                                2\n",
    "# 2 rows having NaNs\n",
    "\n",
    "\n",
    "merged = merged.dropna(subset=['comment_text'])\n"
   ]
  },
  {
   "cell_type": "code",
   "execution_count": 12,
   "metadata": {},
   "outputs": [],
   "source": [
    "# Step 5 - create .csv file from merged dataset\n",
    "\n",
    "merged.to_csv('data/merged_data.csv', index=False)"
   ]
  },
  {
   "cell_type": "markdown",
   "metadata": {},
   "source": [
    "### Checking how the data is balanced"
   ]
  },
  {
   "cell_type": "code",
   "execution_count": 13,
   "metadata": {},
   "outputs": [
    {
     "name": "stdout",
     "output_type": "stream",
     "text": [
      "toxic\n",
      "0    397204\n",
      "1     50794\n",
      "Name: count, dtype: int64\n",
      "toxic\n",
      "0    88.7\n",
      "1    11.3\n",
      "Name: count, dtype: float64\n"
     ]
    }
   ],
   "source": [
    "# Checking how the data is balanced\n",
    "toxic_counts = merged['toxic'].value_counts()\n",
    "print(toxic_counts)\n",
    "\n",
    "toxic_percentages = ((toxic_counts / len(merged)) * 100).round(1)\n",
    "print(toxic_percentages)"
   ]
  },
  {
   "cell_type": "markdown",
   "metadata": {},
   "source": [
    "<span style=\"color: Black;\"><b>Imbalanced data. Work on this after EDA</b></span>"
   ]
  },
  {
   "cell_type": "markdown",
   "metadata": {},
   "source": [
    "### No of rows and columns after Data Cleaning"
   ]
  },
  {
   "cell_type": "code",
   "execution_count": 14,
   "metadata": {},
   "outputs": [
    {
     "name": "stdout",
     "output_type": "stream",
     "text": [
      "No of Columns : 44\n",
      "No of Rows : 447998\n"
     ]
    }
   ],
   "source": [
    "print(f'No of Columns : {len(merged.columns)}')\n",
    "print(f'No of Rows : {len(merged)}')"
   ]
  },
  {
   "cell_type": "code",
   "execution_count": null,
   "metadata": {},
   "outputs": [],
   "source": []
  }
 ],
 "metadata": {
  "interpreter": {
   "hash": "7ee5ce8695951d3743acb1574d7cbc518a435066b16546d59d44a9748127e061"
  },
  "kernelspec": {
   "display_name": "Python 3 (ipykernel)",
   "language": "python",
   "name": "python3"
  },
  "language_info": {
   "codemirror_mode": {
    "name": "ipython",
    "version": 3
   },
   "file_extension": ".py",
   "mimetype": "text/x-python",
   "name": "python",
   "nbconvert_exporter": "python",
   "pygments_lexer": "ipython3",
   "version": "3.11.5"
  }
 },
 "nbformat": 4,
 "nbformat_minor": 4
}
