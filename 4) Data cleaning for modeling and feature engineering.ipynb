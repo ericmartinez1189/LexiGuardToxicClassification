{
 "cells": [
  {
   "cell_type": "markdown",
   "metadata": {
    "id": "8ChnD36qHhuy"
   },
   "source": [
    "# Data cleaning for Modeling and Feature Engineering"
   ]
  },
  {
   "cell_type": "markdown",
   "metadata": {
    "id": "sLTUtsD6HupB"
   },
   "source": [
    "## Setup"
   ]
  },
  {
   "cell_type": "code",
   "execution_count": 24,
   "metadata": {
    "colab": {
     "base_uri": "https://localhost:8080/"
    },
    "id": "nisbn3mTG0fj",
    "outputId": "c3a65a47-0bea-4de2-c594-1b5ca57dec48"
   },
   "outputs": [
    {
     "name": "stdout",
     "output_type": "stream",
     "text": [
      "Collecting en-core-web-sm==3.7.1\n",
      "  Downloading https://github.com/explosion/spacy-models/releases/download/en_core_web_sm-3.7.1/en_core_web_sm-3.7.1-py3-none-any.whl (12.8 MB)\n",
      "     ---------------------------------------- 0.0/12.8 MB ? eta -:--:--\n",
      "     --------------------------------------- 0.0/12.8 MB 682.7 kB/s eta 0:00:19\n",
      "     --------------------------------------- 0.1/12.8 MB 919.0 kB/s eta 0:00:14\n",
      "     - -------------------------------------- 0.4/12.8 MB 2.5 MB/s eta 0:00:06\n",
      "     -- ------------------------------------- 0.9/12.8 MB 5.1 MB/s eta 0:00:03\n",
      "     ---- ----------------------------------- 1.3/12.8 MB 6.0 MB/s eta 0:00:02\n",
      "     ---- ----------------------------------- 1.4/12.8 MB 6.5 MB/s eta 0:00:02\n",
      "     ----- ---------------------------------- 1.8/12.8 MB 6.0 MB/s eta 0:00:02\n",
      "     ------- -------------------------------- 2.2/12.8 MB 6.8 MB/s eta 0:00:02\n",
      "     ------- -------------------------------- 2.5/12.8 MB 6.4 MB/s eta 0:00:02\n",
      "     --------- ------------------------------ 3.1/12.8 MB 7.3 MB/s eta 0:00:02\n",
      "     ---------- ----------------------------- 3.3/12.8 MB 7.4 MB/s eta 0:00:02\n",
      "     ----------- ---------------------------- 3.8/12.8 MB 7.4 MB/s eta 0:00:02\n",
      "     -------------- ------------------------- 4.6/12.8 MB 8.2 MB/s eta 0:00:01\n",
      "     --------------- ------------------------ 5.0/12.8 MB 8.3 MB/s eta 0:00:01\n",
      "     ----------------- ---------------------- 5.6/12.8 MB 8.5 MB/s eta 0:00:01\n",
      "     ------------------- -------------------- 6.2/12.8 MB 9.0 MB/s eta 0:00:01\n",
      "     --------------------- ------------------ 7.0/12.8 MB 9.3 MB/s eta 0:00:01\n",
      "     ------------------------ --------------- 7.7/12.8 MB 9.9 MB/s eta 0:00:01\n",
      "     -------------------------- ------------- 8.4/12.8 MB 10.2 MB/s eta 0:00:01\n",
      "     ----------------------------- ---------- 9.3/12.8 MB 10.6 MB/s eta 0:00:01\n",
      "     ------------------------------ -------- 10.0/12.8 MB 10.9 MB/s eta 0:00:01\n",
      "     -------------------------------- ------ 10.7/12.8 MB 12.4 MB/s eta 0:00:01\n",
      "     ---------------------------------- ---- 11.5/12.8 MB 13.1 MB/s eta 0:00:01\n",
      "     ------------------------------------- - 12.2/12.8 MB 14.2 MB/s eta 0:00:01\n",
      "     --------------------------------------  12.8/12.8 MB 14.6 MB/s eta 0:00:01\n",
      "     --------------------------------------  12.8/12.8 MB 14.6 MB/s eta 0:00:01\n",
      "     --------------------------------------- 12.8/12.8 MB 13.6 MB/s eta 0:00:00\n",
      "Requirement already satisfied: spacy<3.8.0,>=3.7.2 in c:\\users\\eric_\\anaconda3\\envs\\test\\lib\\site-packages (from en-core-web-sm==3.7.1) (3.7.2)\n",
      "Requirement already satisfied: spacy-legacy<3.1.0,>=3.0.11 in c:\\users\\eric_\\anaconda3\\envs\\test\\lib\\site-packages (from spacy<3.8.0,>=3.7.2->en-core-web-sm==3.7.1) (3.0.12)\n",
      "Requirement already satisfied: spacy-loggers<2.0.0,>=1.0.0 in c:\\users\\eric_\\anaconda3\\envs\\test\\lib\\site-packages (from spacy<3.8.0,>=3.7.2->en-core-web-sm==3.7.1) (1.0.5)\n",
      "Requirement already satisfied: murmurhash<1.1.0,>=0.28.0 in c:\\users\\eric_\\anaconda3\\envs\\test\\lib\\site-packages (from spacy<3.8.0,>=3.7.2->en-core-web-sm==3.7.1) (1.0.10)\n",
      "Requirement already satisfied: cymem<2.1.0,>=2.0.2 in c:\\users\\eric_\\anaconda3\\envs\\test\\lib\\site-packages (from spacy<3.8.0,>=3.7.2->en-core-web-sm==3.7.1) (2.0.8)\n",
      "Requirement already satisfied: preshed<3.1.0,>=3.0.2 in c:\\users\\eric_\\anaconda3\\envs\\test\\lib\\site-packages (from spacy<3.8.0,>=3.7.2->en-core-web-sm==3.7.1) (3.0.9)\n",
      "Requirement already satisfied: thinc<8.3.0,>=8.1.8 in c:\\users\\eric_\\anaconda3\\envs\\test\\lib\\site-packages (from spacy<3.8.0,>=3.7.2->en-core-web-sm==3.7.1) (8.2.2)\n",
      "Requirement already satisfied: wasabi<1.2.0,>=0.9.1 in c:\\users\\eric_\\anaconda3\\envs\\test\\lib\\site-packages (from spacy<3.8.0,>=3.7.2->en-core-web-sm==3.7.1) (1.1.2)\n",
      "Requirement already satisfied: srsly<3.0.0,>=2.4.3 in c:\\users\\eric_\\anaconda3\\envs\\test\\lib\\site-packages (from spacy<3.8.0,>=3.7.2->en-core-web-sm==3.7.1) (2.4.8)\n",
      "Requirement already satisfied: catalogue<2.1.0,>=2.0.6 in c:\\users\\eric_\\anaconda3\\envs\\test\\lib\\site-packages (from spacy<3.8.0,>=3.7.2->en-core-web-sm==3.7.1) (2.0.10)\n",
      "Requirement already satisfied: weasel<0.4.0,>=0.1.0 in c:\\users\\eric_\\anaconda3\\envs\\test\\lib\\site-packages (from spacy<3.8.0,>=3.7.2->en-core-web-sm==3.7.1) (0.3.4)\n",
      "Requirement already satisfied: typer<0.10.0,>=0.3.0 in c:\\users\\eric_\\anaconda3\\envs\\test\\lib\\site-packages (from spacy<3.8.0,>=3.7.2->en-core-web-sm==3.7.1) (0.9.0)\n",
      "Requirement already satisfied: smart-open<7.0.0,>=5.2.1 in c:\\users\\eric_\\anaconda3\\envs\\test\\lib\\site-packages (from spacy<3.8.0,>=3.7.2->en-core-web-sm==3.7.1) (6.4.0)\n",
      "Requirement already satisfied: tqdm<5.0.0,>=4.38.0 in c:\\users\\eric_\\anaconda3\\envs\\test\\lib\\site-packages (from spacy<3.8.0,>=3.7.2->en-core-web-sm==3.7.1) (4.66.1)\n",
      "Requirement already satisfied: requests<3.0.0,>=2.13.0 in c:\\users\\eric_\\anaconda3\\envs\\test\\lib\\site-packages (from spacy<3.8.0,>=3.7.2->en-core-web-sm==3.7.1) (2.31.0)\n",
      "Requirement already satisfied: pydantic!=1.8,!=1.8.1,<3.0.0,>=1.7.4 in c:\\users\\eric_\\anaconda3\\envs\\test\\lib\\site-packages (from spacy<3.8.0,>=3.7.2->en-core-web-sm==3.7.1) (2.5.3)\n",
      "Requirement already satisfied: jinja2 in c:\\users\\eric_\\anaconda3\\envs\\test\\lib\\site-packages (from spacy<3.8.0,>=3.7.2->en-core-web-sm==3.7.1) (3.1.2)\n",
      "Requirement already satisfied: setuptools in c:\\users\\eric_\\anaconda3\\envs\\test\\lib\\site-packages (from spacy<3.8.0,>=3.7.2->en-core-web-sm==3.7.1) (68.2.2)\n",
      "Requirement already satisfied: packaging>=20.0 in c:\\users\\eric_\\anaconda3\\envs\\test\\lib\\site-packages (from spacy<3.8.0,>=3.7.2->en-core-web-sm==3.7.1) (23.1)\n",
      "Requirement already satisfied: langcodes<4.0.0,>=3.2.0 in c:\\users\\eric_\\anaconda3\\envs\\test\\lib\\site-packages (from spacy<3.8.0,>=3.7.2->en-core-web-sm==3.7.1) (3.3.0)\n",
      "Requirement already satisfied: numpy>=1.19.0 in c:\\users\\eric_\\anaconda3\\envs\\test\\lib\\site-packages (from spacy<3.8.0,>=3.7.2->en-core-web-sm==3.7.1) (1.23.5)\n",
      "Requirement already satisfied: annotated-types>=0.4.0 in c:\\users\\eric_\\anaconda3\\envs\\test\\lib\\site-packages (from pydantic!=1.8,!=1.8.1,<3.0.0,>=1.7.4->spacy<3.8.0,>=3.7.2->en-core-web-sm==3.7.1) (0.6.0)\n",
      "Requirement already satisfied: pydantic-core==2.14.6 in c:\\users\\eric_\\anaconda3\\envs\\test\\lib\\site-packages (from pydantic!=1.8,!=1.8.1,<3.0.0,>=1.7.4->spacy<3.8.0,>=3.7.2->en-core-web-sm==3.7.1) (2.14.6)\n",
      "Requirement already satisfied: typing-extensions>=4.6.1 in c:\\users\\eric_\\anaconda3\\envs\\test\\lib\\site-packages (from pydantic!=1.8,!=1.8.1,<3.0.0,>=1.7.4->spacy<3.8.0,>=3.7.2->en-core-web-sm==3.7.1) (4.7.1)\n",
      "Requirement already satisfied: charset-normalizer<4,>=2 in c:\\users\\eric_\\anaconda3\\envs\\test\\lib\\site-packages (from requests<3.0.0,>=2.13.0->spacy<3.8.0,>=3.7.2->en-core-web-sm==3.7.1) (2.0.4)\n",
      "Requirement already satisfied: idna<4,>=2.5 in c:\\users\\eric_\\anaconda3\\envs\\test\\lib\\site-packages (from requests<3.0.0,>=2.13.0->spacy<3.8.0,>=3.7.2->en-core-web-sm==3.7.1) (3.4)\n",
      "Requirement already satisfied: urllib3<3,>=1.21.1 in c:\\users\\eric_\\anaconda3\\envs\\test\\lib\\site-packages (from requests<3.0.0,>=2.13.0->spacy<3.8.0,>=3.7.2->en-core-web-sm==3.7.1) (1.26.18)\n",
      "Requirement already satisfied: certifi>=2017.4.17 in c:\\users\\eric_\\anaconda3\\envs\\test\\lib\\site-packages (from requests<3.0.0,>=2.13.0->spacy<3.8.0,>=3.7.2->en-core-web-sm==3.7.1) (2023.11.17)\n",
      "Requirement already satisfied: blis<0.8.0,>=0.7.8 in c:\\users\\eric_\\anaconda3\\envs\\test\\lib\\site-packages (from thinc<8.3.0,>=8.1.8->spacy<3.8.0,>=3.7.2->en-core-web-sm==3.7.1) (0.7.11)\n",
      "Requirement already satisfied: confection<1.0.0,>=0.0.1 in c:\\users\\eric_\\anaconda3\\envs\\test\\lib\\site-packages (from thinc<8.3.0,>=8.1.8->spacy<3.8.0,>=3.7.2->en-core-web-sm==3.7.1) (0.1.4)\n",
      "Requirement already satisfied: colorama in c:\\users\\eric_\\anaconda3\\envs\\test\\lib\\site-packages (from tqdm<5.0.0,>=4.38.0->spacy<3.8.0,>=3.7.2->en-core-web-sm==3.7.1) (0.4.6)\n",
      "Requirement already satisfied: click<9.0.0,>=7.1.1 in c:\\users\\eric_\\anaconda3\\envs\\test\\lib\\site-packages (from typer<0.10.0,>=0.3.0->spacy<3.8.0,>=3.7.2->en-core-web-sm==3.7.1) (8.1.7)\n",
      "Requirement already satisfied: cloudpathlib<0.17.0,>=0.7.0 in c:\\users\\eric_\\anaconda3\\envs\\test\\lib\\site-packages (from weasel<0.4.0,>=0.1.0->spacy<3.8.0,>=3.7.2->en-core-web-sm==3.7.1) (0.16.0)\n",
      "Requirement already satisfied: MarkupSafe>=2.0 in c:\\users\\eric_\\anaconda3\\envs\\test\\lib\\site-packages (from jinja2->spacy<3.8.0,>=3.7.2->en-core-web-sm==3.7.1) (2.1.3)\n",
      "Installing collected packages: en-core-web-sm\n",
      "Successfully installed en-core-web-sm-3.7.1\n",
      "\u001b[38;5;2m[+] Download and installation successful\u001b[0m\n",
      "You can now load the package via spacy.load('en_core_web_sm')\n"
     ]
    }
   ],
   "source": [
    "# import the usual suspects / basics\n",
    "import pandas as pd\n",
    "import numpy as np\n",
    "import re\n",
    "import pickle\n",
    "import os\n",
    "\n",
    "# tqdm\n",
    "from tqdm import tqdm\n",
    "tqdm.pandas()\n",
    "\n",
    "# spaCy\n",
    "import spacy\n",
    "\n",
    "!python -m spacy download en_core_web_sm\n",
    "\n",
    "# fastText\n",
    "import fasttext\n",
    "\n",
    "# display all df columns (default is 20)\n",
    "pd.options.display.max_columns = None\n",
    "\n",
    "# show all data in columns so that full comment is visible\n",
    "pd.options.display.max_colwidth = None"
   ]
  },
  {
   "cell_type": "markdown",
   "metadata": {
    "id": "-MP847vfIJMN"
   },
   "source": [
    "## Load data"
   ]
  },
  {
   "cell_type": "code",
   "execution_count": 3,
   "metadata": {
    "id": "r6YNY0NIIL4d"
   },
   "outputs": [],
   "source": [
    "df = pd.read_csv('data/undersampled_data_60_40.csv')"
   ]
  },
  {
   "cell_type": "code",
   "execution_count": 4,
   "metadata": {},
   "outputs": [
    {
     "name": "stdout",
     "output_type": "stream",
     "text": [
      "<class 'pandas.core.frame.DataFrame'>\n",
      "RangeIndex: 399455 entries, 0 to 399454\n",
      "Data columns (total 3 columns):\n",
      " #   Column        Non-Null Count   Dtype  \n",
      "---  ------        --------------   -----  \n",
      " 0   comment_text  399455 non-null  object \n",
      " 1   toxicity      399455 non-null  float64\n",
      " 2   toxic         399455 non-null  int64  \n",
      "dtypes: float64(1), int64(1), object(1)\n",
      "memory usage: 9.1+ MB\n"
     ]
    }
   ],
   "source": [
    "df.info()"
   ]
  },
  {
   "cell_type": "markdown",
   "metadata": {},
   "source": [
    "## Optional: Create smaller sample from data to speed up things while experimenting"
   ]
  },
  {
   "cell_type": "code",
   "execution_count": 5,
   "metadata": {},
   "outputs": [
    {
     "name": "stdout",
     "output_type": "stream",
     "text": [
      "Using full data (399455 rows).\n"
     ]
    }
   ],
   "source": [
    "sample_size = None\n",
    "\n",
    "# uncomment to create sample of desired size\n",
    "#sample_size = 10_000\n",
    "\n",
    "if sample_size != None:\n",
    "    # ratio toxic/nontoxic\n",
    "    tox_perc = 0.4\n",
    "    nontox_perc = 0.6\n",
    "\n",
    "    # number of toxic/nontoxic rows\n",
    "    sample_size_tox = int(sample_size * tox_perc)\n",
    "    sample_size_nontox = int(sample_size * nontox_perc)\n",
    "\n",
    "    sample_tox = df[df['toxic'] == 1].sample(sample_size_tox,\n",
    "                                             random_state=42)\n",
    "    sample_nontox = df[df['toxic'] == 0].sample(sample_size_nontox,\n",
    "                                                random_state=42)\n",
    "\n",
    "    df = pd.concat([sample_tox, sample_nontox])\n",
    "    print(f'Using sample ({df.shape[0]} rows).')\n",
    "\n",
    "else:\n",
    "    print(f'Using full data ({df.shape[0]} rows).')"
   ]
  },
  {
   "cell_type": "markdown",
   "metadata": {},
   "source": [
    "## Create corpus"
   ]
  },
  {
   "cell_type": "code",
   "execution_count": 6,
   "metadata": {},
   "outputs": [],
   "source": [
    "corp = df['comment_text']"
   ]
  },
  {
   "cell_type": "markdown",
   "metadata": {},
   "source": [
    "## Data cleaning"
   ]
  },
  {
   "cell_type": "markdown",
   "metadata": {},
   "source": [
    "### Show data size before cleaning"
   ]
  },
  {
   "cell_type": "code",
   "execution_count": 7,
   "metadata": {},
   "outputs": [
    {
     "name": "stdout",
     "output_type": "stream",
     "text": [
      "Number of words in corpus before cleaning: 20,096,710\n"
     ]
    }
   ],
   "source": [
    "# count 'words' (rough regex method)\n",
    "num_words_before = corp.str.count(r'\\S+', flags=re.I).sum()\n",
    "\n",
    "print(f'Number of words in corpus before cleaning: {num_words_before:,}')"
   ]
  },
  {
   "cell_type": "markdown",
   "metadata": {},
   "source": [
    "### Remove anchor HTML tags (\\<a\\>)\n",
    "\n",
    "TODO: Do this with an HTML parser like Beautiful Soup."
   ]
  },
  {
   "cell_type": "code",
   "execution_count": 8,
   "metadata": {},
   "outputs": [
    {
     "name": "stdout",
     "output_type": "stream",
     "text": [
      "65\n"
     ]
    },
    {
     "data": {
      "text/plain": [
       "345                                                                                                                                                                                                                                                                                                                yaah this is good posting for women  <a href=\"http://www.adultvibes.in/index.php?main_page=page&id=9l\">sexual</a>  feeeling\n",
       "12528     Rakhi is the traditional Indian festival where a sister ties Rakhi string around her brother's wrist. \\nLike many other Indian festivals, this too is a gift-giving occasion when brother and sisters exchange their token of love.\\nThere are many quotes are available for sibling in our article......\\nFor More....\\nPlz visit:- <a href=\"http://www.dooiitt.com/raksha-bandhan-quotes-images-wishes/\">Raksha Bandhan Quotes</a>\n",
       "66222                                                                                                                                                           air purifier affects the body of the human so we should use the air purifier to protect yourself air purifier remove the all the dust and virus from the air.thanks for the sharing this unique information on your site.\\na href=\"http://airpurifierdr.com/\">air purifier</a>\n",
       "68857                                                                                                                                                                                       Tomorrowland 2017 in clebration of this festival related all information provided in our article.\\n Like timeing,rules and regulation,weekand date.etc.\\n Plz visit:- <a href=\"http://www.dooiitt.com/category/tomorrowland/\">Tomorrowland2017</a>\n",
       "128089                                                                                                                              Wow. cool post. I’d like to write like this too – taking time and real hard work to make a great article… but I put things off too much and never seem to get started. Thanks though.I'm <a href=\"http://www.commonrailparts.net\">common rail</a> come from <a href=\"http://www.zjsensor.com\">sensor</a> .\n",
       "Name: comment_text, dtype: object"
      ]
     },
     "execution_count": 8,
     "metadata": {},
     "output_type": "execute_result"
    }
   ],
   "source": [
    "regex = r'<a .*?>|</a>' # *? for non-greedy repetition\n",
    "\n",
    "# count matches\n",
    "print(corp.str.count(regex, flags=re.I).sum())\n",
    "\n",
    "# show some rows containing the pattern\n",
    "corp[corp.str.contains(regex, na=False, case=False)].head()"
   ]
  },
  {
   "cell_type": "code",
   "execution_count": 9,
   "metadata": {},
   "outputs": [
    {
     "name": "stdout",
     "output_type": "stream",
     "text": [
      "0\n"
     ]
    }
   ],
   "source": [
    "# replace pattern\n",
    "corp = corp.str.replace(regex, '', regex=True, case=False)\n",
    "\n",
    "# count matches again, should be 0\n",
    "print(corp.str.count(regex, flags=re.I).sum())"
   ]
  },
  {
   "cell_type": "markdown",
   "metadata": {},
   "source": [
    "### Remove URLs"
   ]
  },
  {
   "cell_type": "code",
   "execution_count": 10,
   "metadata": {},
   "outputs": [
    {
     "name": "stdout",
     "output_type": "stream",
     "text": [
      "10820\n"
     ]
    },
    {
     "data": {
      "text/plain": [
       "7                                                                                                                                                                                                                                                                                                                                                                                                                                                                                                                                                                                           Odd that Saunders doesn't mention the two terrorist attacks, the one in Manchester less than three weeks ago and the one in London last week, and what  effect they may have had on the election.  The Tories' drop in the polls, and Labour's rise, starts after the Manchester massacre: https://en.wikipedia.org/wiki/Opinion_polling_for_the_United_Kingdom_general_election,_2017#2017. Of course that may just be coincidence, but maybe not.\n",
       "53                                                                                                                                                                                                                                                                                                                                                                                                                                                                                                                                                                                                                                                                                                                                                                                                                                                                                                                              http://www.sciencedirect.com/science/article/pii/S2090536X15000672\\n\\nYou're confusing it with pseudoephedrine.\n",
       "123    A new regime is need for flood risk insurance - in Canada, insurers are now selling overland flood insurance (separate from common sewer pipe back-up) available in areas of small local overland flow, beyond valleys. That new Canadian coverage (Intact, Aviva, RSA ...) is not available in high risk floodplains though. So highest risk are not insurable. The key problem in Canada is a fragmented insurance market with some insurers holding a couple percentages of the property and casualty market, making it uneconomical or impractical to invest in proper risk models for complex phenomena : valley riverine, urban overland, and sewer back-up risk are sometimes interrelated during extreme events as shown in a review of last 3 Toronto storms exploring risk factors holistically \"from flood plain to floor drain\":\\nhttps://www.slideshare.net/RobertMuir3/urban-flood-risk-from-flood-plains-to-floor-drains\\nNew floodplain maps alone will not improve understanding of the highest risk urban flood risks.\n",
       "248                                                                                                                                                                                                                                                                                                                                                                                                                                      2/2\\nWhen Trump went on \"The View\" in 2011, he said that he had hired investigators to look into Obama's birthplace. He said that \"You won't believe what they're finding\" and that he would be releasing their report \"soon.\" We didn't know then what we know now: that when Trump promises to  release \"proof\" for any of his lies, he's lying -- in fact, it's Trump-speak for \"I'm lying through my teeth.\" There was no report, no investigation, no investigators -- there was always and only Trump's filthy, racist lies. Here he is on The View: https://www.youtube.com/watch?v=emkDpm_vQDg\n",
       "309                                                                                                                                                                                                                                                                                                                                                                                                                                                                                                                                   J. Ernst did do the proper sampling and testing, so did her neighbors, the Campbell's in Ponoka, and the Zimmerman's in Westaskiwin, and the damaging data and evidence has been peer-reviewed and published, even referenced by the US EPA in their final frac report. Ernst has also documented evidence of Encana fracturing Rosebud's drinking water aquifers. \\n\\nhttp://www.ernstversusencana.ca/fingerprinting-of-gas-contaminating-groundwater-and-soil-in-a-petroliferous-region-alberta-canada/\n",
       "Name: comment_text, dtype: object"
      ]
     },
     "execution_count": 10,
     "metadata": {},
     "output_type": "execute_result"
    }
   ],
   "source": [
    "regex = r'https?://\\S+'\n",
    "print(corp.str.count(regex, flags=re.I).sum())\n",
    "corp[corp.str.contains(regex, na=False, case=False)].head()"
   ]
  },
  {
   "cell_type": "code",
   "execution_count": 11,
   "metadata": {},
   "outputs": [
    {
     "name": "stdout",
     "output_type": "stream",
     "text": [
      "0\n"
     ]
    }
   ],
   "source": [
    "corp = corp.str.replace(regex, '', regex=True, case=False)\n",
    "print(corp.str.count(regex, flags=re.I).sum())"
   ]
  },
  {
   "cell_type": "markdown",
   "metadata": {},
   "source": [
    "### Remove whitespace except for spaces\n",
    "\n",
    "\\r actually causes an error when loading the saved csv file with read_csv() (just C engine, Python engine works).  \n",
    "\\u2028 --> Unicode line seperator."
   ]
  },
  {
   "cell_type": "code",
   "execution_count": 12,
   "metadata": {},
   "outputs": [
    {
     "name": "stdout",
     "output_type": "stream",
     "text": [
      "435299\n"
     ]
    },
    {
     "data": {
      "text/plain": [
       "1                                                                                                                                                                                                                                                                                                                                                                                                                                                                                                   The Jones Act was immediately lifted to help Texas and Florida.\\n\\nIt took the nation two weeks of shaming Trump before he acted to help Puerto Rico.\\n\\nHe spent that time making lame and nonsensical excuses for why he couldn't lift the ban.\\n\\nIn other news:\\n\\nTrump continues to shore up his racist base by dropping more racial dog whistles. Now he says NFL owners are 'afraid' of their black players.\\n\\nYep, the plantation is under threat by the uppitys all over again.  Trump is a racist.\\n\\nAnd a traitor.\n",
       "3    Climate change, in the sense discussed in the Pope's encyclical, is a dubious theory at best. Also,  your claim that 95% of the \"scientific community\" supports the theory is  patently false. In any event for a pope to give his imprimatur to a scientific theory is unprecedented.   He has no competence in this area and should not \\nlend credibility to what is essentially a prudential matter.  \\n\\nThere is nothing wrong with Trump's approach to Russia, and there is no reason for the Catholic Church at this time and under current current circumstances to advise anyone, let alone the President on the matter. Again this is a prudential matter. \\n\\nRelations between nations have nothing to do with what a country has done in terms of \"Suppressing democracy\". What planet do you live on. \\n\\nAs for as poverty is concerned, the Pope should speak out against the corrupt governments that keep people in poverty and ignorance. Thinking that America can pay to save the world misses the point.\n",
       "5                                                                                                                                                                                                   Same thing on my Facebook. I was attacked for saying Orlando was an Islamist terrorist attack. I was told it had nothing to do with Islam. It was a hate-crime against gays and LGBT people, they said.\\n\\nWell, the fact is the terrorist posted on his own Facebook, put it on Twitter, and said it in text messages on his own phone that his assault on the nightclub was SUPPORT FOR ISIS. He never once on Facebook, Twitter or texting said he hated gays. The fact he chose the nightclub for his attack was, in all likelihood, because he knew the nightclub inside and out: the doors, windows, exits, etc. And he knew there would be a lot of people to kill there.  The terrorist declared his support for ISIS and never once mentioned gays. However the regressive-left 'liberals' refused to accept the facts.\n",
       "8                                                                                                                                                                                                                                                                                                                                                                                                                                                                                                                                                                                                                                                                                                                                            Fake news Alert! Fake news Alert! Fake news alert! Fake news Alert!\\n\\nYea only a leftist government is a true liberal government!\\n\\nAs the leftists destroy everything the U.S. Constitution stands for, they blame it all on the right!\\n\\nThe left have always been pathetic liars!\n",
       "9                There will be some hand wringing about sourcing steel for Keystone from US sources. Did anybody note the big loophole in Trump's declaration?..........use US products \"to the maximum extent possible\". This is a loophole large enough to run 3,000km of large diameter pipe through. TRP could play with the specs of the Keystone pipe so as to make most US suppliers ineligible. Not so many US manufacturers have the capability to produce 48\" heavy wall tubes. US Steel, for example, does not have that capability. Grade of steel could be another sticking point.\\n\\nThe coating part of the contract would also be problematic for US companies. There is no company in USA that has a coating plant with the capabilities of Shawcor's newer plant in Camrose, AB; a plant that is just across the street from the 48\" pipe forming mill owned by Evraz Camrose.\\n\\nFor all of his self-declared expertise at negotiating business deals, I think that Trump may be not quite so adept as he thinks.\n",
       "Name: comment_text, dtype: object"
      ]
     },
     "execution_count": 12,
     "metadata": {},
     "output_type": "execute_result"
    }
   ],
   "source": [
    "regex = r'[\\t\\n\\r\\f\\v\\u2028]'\n",
    "print(corp.str.count(regex, flags=re.I).sum())\n",
    "corp[corp.str.contains(regex, na=False, case=False)].head()"
   ]
  },
  {
   "cell_type": "code",
   "execution_count": 13,
   "metadata": {},
   "outputs": [
    {
     "name": "stdout",
     "output_type": "stream",
     "text": [
      "0\n"
     ]
    }
   ],
   "source": [
    "corp = corp.str.replace(regex, ' ', regex=True, case=False)\n",
    "print(corp.str.count(regex, flags=re.I).sum())"
   ]
  },
  {
   "cell_type": "markdown",
   "metadata": {},
   "source": [
    "### Remove numbers"
   ]
  },
  {
   "cell_type": "code",
   "execution_count": 14,
   "metadata": {},
   "outputs": [
    {
     "name": "stdout",
     "output_type": "stream",
     "text": [
      "186580\n"
     ]
    },
    {
     "data": {
      "text/plain": [
       "2                                                                                As long as the Church keeps preventing the Lord from calling women to the sacramental priesthood, there is a fundamental imbalance, driven by patriarchal gender ideology, that is harmful to the entire body of Christ, male and female.  The vocation crisis is not about women, just as it is not about men.  It is about letting go of a patriarchal culture that is passing away, and allowing the Lord to call those he wants here and now, men and women, to all vocations, including the sacramental priesthood and the episcopate, without imposing artificial gender walls that are heritage from the Old Law (not the New Law!) and no longer make sense.  The sacramental priesthood is about service, not genitals. Ordained priests do #2 sitting down.  Why in the world is it that they cannot do #1 sitting down as well?  Allow the Lord to call women to the ministerial priesthood, and the life of the Church will be much better!\n",
       "3               Climate change, in the sense discussed in the Pope's encyclical, is a dubious theory at best. Also,  your claim that 95% of the \"scientific community\" supports the theory is  patently false. In any event for a pope to give his imprimatur to a scientific theory is unprecedented.   He has no competence in this area and should not  lend credibility to what is essentially a prudential matter.    There is nothing wrong with Trump's approach to Russia, and there is no reason for the Catholic Church at this time and under current current circumstances to advise anyone, let alone the President on the matter. Again this is a prudential matter.   Relations between nations have nothing to do with what a country has done in terms of \"Suppressing democracy\". What planet do you live on.   As for as poverty is concerned, the Pope should speak out against the corrupt governments that keep people in poverty and ignorance. Thinking that America can pay to save the world misses the point.\n",
       "9                        There will be some hand wringing about sourcing steel for Keystone from US sources. Did anybody note the big loophole in Trump's declaration?..........use US products \"to the maximum extent possible\". This is a loophole large enough to run 3,000km of large diameter pipe through. TRP could play with the specs of the Keystone pipe so as to make most US suppliers ineligible. Not so many US manufacturers have the capability to produce 48\" heavy wall tubes. US Steel, for example, does not have that capability. Grade of steel could be another sticking point.  The coating part of the contract would also be problematic for US companies. There is no company in USA that has a coating plant with the capabilities of Shawcor's newer plant in Camrose, AB; a plant that is just across the street from the 48\" pipe forming mill owned by Evraz Camrose.  For all of his self-declared expertise at negotiating business deals, I think that Trump may be not quite so adept as he thinks.\n",
       "14                                                                                                                                                                                                                                                                                                                                                                                                                                                                                                                                                                                                                                                                                                                                                                                                       I can't speak for L2G but I've been seeing it on local Facebook pages. The RG is not telling us what happened, so FB is our only source. The video doesn't show how this started. What we have here is a failure of journalism.\n",
       "15    To be honest, HB 2004 will help a few tenants in the short term.  But, in the long run, it will make life more difficult for a lot of good tenants and give additional cover to some bad actors.   It will remove any incentive for landlords to give people with a tarnished past a second chance, and it will increase the cost of housing, because everytime a landlord hires an attorney, tenants ultimately pay for it, or the landlord goes out of business.   All the while doing nothing to alleviate the housing supply problem.  Legislators need to look at the  Craigslist Housing Wanted section.  They would see that tenants want more flexibility in the ability to rent what are now sub standard, illegal spaces.  A temporary moratorium on local restrictive codes would quickly assist with the supply problem until more units can be built.  This is truly the word on the street from tenants......not the public employee union financed opinions put forth by CAT, PTU and Stable Homes Oregon FB pages.\n",
       "Name: comment_text, dtype: object"
      ]
     },
     "execution_count": 14,
     "metadata": {},
     "output_type": "execute_result"
    }
   ],
   "source": [
    "regex = r'\\d+'\n",
    "print(corp.str.count(regex, flags=re.I).sum())\n",
    "corp[corp.str.contains(regex, na=False, case=False)].head()"
   ]
  },
  {
   "cell_type": "code",
   "execution_count": 15,
   "metadata": {},
   "outputs": [
    {
     "name": "stdout",
     "output_type": "stream",
     "text": [
      "0\n"
     ]
    }
   ],
   "source": [
    "corp = corp.str.replace(regex, ' ', regex=True, case=False)\n",
    "print(corp.str.count(regex, flags=re.I).sum())"
   ]
  },
  {
   "cell_type": "markdown",
   "metadata": {},
   "source": [
    "### Manually \"unmask\" morst frequent swearwords, insults etc. (e.g. f*ck, cr@p)\n",
    "\n",
    "Also correct some (on-purpose) misspellings that reflect pronunciation, e.g. \"huuuge\", \"stooopid\".\n",
    "\n",
    "TODO: Implement autocorrection."
   ]
  },
  {
   "cell_type": "code",
   "execution_count": 16,
   "metadata": {},
   "outputs": [
    {
     "name": "stdout",
     "output_type": "stream",
     "text": [
      "4365\n"
     ]
    },
    {
     "data": {
      "text/plain": [
       "comment_text\n",
       "[]                395926\n",
       "[sh*t]                91\n",
       "[***]                 54\n",
       "[a**]                 50\n",
       "[s**t]                38\n",
       "[*****]               35\n",
       "[p***y]               34\n",
       "[****]                34\n",
       "[f***]                28\n",
       "[f**k]                23\n",
       "[h*ll]                21\n",
       "[p****]               20\n",
       "[p*ssy]               19\n",
       "[F***]                18\n",
       "[s***]                18\n",
       "[a**.]                17\n",
       "[pu**y]               16\n",
       "[sh**]                15\n",
       "[cr*p]                15\n",
       "[*not*]               14\n",
       "[sh*t.]               14\n",
       "[*sigh*]              14\n",
       "[b*tch]               13\n",
       "[h***]                13\n",
       "[*any*]               13\n",
       "[f*ck]                12\n",
       "[*is*]                12\n",
       "[f***ing]             11\n",
       "[F*ck]                11\n",
       "[*you*]               10\n",
       "[bullsh*t]            10\n",
       "[*I]                  10\n",
       "[a**es]                9\n",
       "[*ss]                  9\n",
       "[*&^%]                 8\n",
       "[d*mn]                 8\n",
       "[*are*]                8\n",
       "[A**]                  8\n",
       "[p*ss]                 7\n",
       "[b*tch.]               7\n",
       "[**, **]               7\n",
       "[*why*]                7\n",
       "[*lol*]                7\n",
       "[f*cking]              7\n",
       "[sh*t,]                7\n",
       "[s**t.]                7\n",
       "[****ing]              7\n",
       "[\"s**t]                6\n",
       "[*only*]               6\n",
       "[f**king]              6\n",
       "[Sh*t]                 6\n",
       "[**]                   6\n",
       "[\"F***]                6\n",
       "[a**holes]             6\n",
       "[bats**t]              6\n",
       "[routes**, **]         6\n",
       "Name: count, dtype: int64"
      ]
     },
     "execution_count": 16,
     "metadata": {},
     "output_type": "execute_result"
    }
   ],
   "source": [
    "# search patterns used to create list of replacements (see next cell)\n",
    "\n",
    "regex = r'\\S*\\*\\S+'\n",
    "#regex = r'\\S*@\\S+'\n",
    "#regex = r'\\S*#\\S+'\n",
    "#regex = r'\\S*a{3,}\\S*'\n",
    "#regex = r'\\S*e{3,}\\S*'\n",
    "#regex = r'\\S*i{3,}\\S*'\n",
    "#regex = r'\\S*o{3,}\\S*'\n",
    "#regex = r'\\S*u{3,}\\S*'\n",
    "\n",
    "print(corp.str.count(regex, flags=re.I).sum())\n",
    "all_matches = corp.str.findall(regex, flags=re.I).value_counts()\n",
    "all_matches[all_matches > 5]"
   ]
  },
  {
   "cell_type": "code",
   "execution_count": 17,
   "metadata": {},
   "outputs": [],
   "source": [
    "match_list = '(?i)f*ck, (?i)sh*t, (?i)s**t, (?i)f***, (?i)p***y, (?i)b*tch, (?i)f**k, (?i)p*ssy, (?i)p****, (?i)s***, (?i)a**, (?i)h*ll, (?i)h***, (?i)sh*t, (?i)pu**y, (?i)sh**, (?i)cr*p, (?i)@ss, (?i)cr@p, (?i)b@lls, (?i)f@ck, (?i)waaay, (?i)waaaay, (?i)riiiight, (?i)soo+, (?i)stooooopid, (?i)huu+ge, (?i)yuu+ge, (?i)suu+re'\\\n",
    "    .replace('*', r'\\*').split(', ')\n",
    "replace_list = 'fuck, shit, shit, fuck, pussy, bitch, fuck, pussy, pussy, shit, ass, hell, hell, shit, pussy, shit, crap, ass, crap, balls, fuck, way, way, right, so, stupid, huge, huge, sure'\\\n",
    "    .split(', ')\n",
    "\n",
    "corp.replace(match_list, replace_list, regex=True, inplace=True)"
   ]
  },
  {
   "cell_type": "markdown",
   "metadata": {},
   "source": [
    "### Remove multiple spaces"
   ]
  },
  {
   "cell_type": "code",
   "execution_count": 18,
   "metadata": {},
   "outputs": [
    {
     "name": "stdout",
     "output_type": "stream",
     "text": [
      "702621\n"
     ]
    },
    {
     "data": {
      "text/plain": [
       "0                                                                                                                                                                                                                                                                                                                                                                                                                                                                                                                                                                                                                                                                                                                                                                                                                                                                                                                                    Trudeau with a brain?  I assume you are taking about Pierre. Can't imagine anyone else.\n",
       "1                                                                                                                                                                                                                                                                                                                                                                                                                                                                                                       The Jones Act was immediately lifted to help Texas and Florida.  It took the nation two weeks of shaming Trump before he acted to help Puerto Rico.  He spent that time making lame and nonsensical excuses for why he couldn't lift the ban.  In other news:  Trump continues to shore up his racist base by dropping more racial dog whistles. Now he says NFL owners are 'afraid' of their black players.  Yep, the plantation is under threat by the uppitys all over again.  Trump is a racist.  And a traitor.\n",
       "2                                                                    As long as the Church keeps preventing the Lord from calling women to the sacramental priesthood, there is a fundamental imbalance, driven by patriarchal gender ideology, that is harmful to the entire body of Christ, male and female.  The vocation crisis is not about women, just as it is not about men.  It is about letting go of a patriarchal culture that is passing away, and allowing the Lord to call those he wants here and now, men and women, to all vocations, including the sacramental priesthood and the episcopate, without imposing artificial gender walls that are heritage from the Old Law (not the New Law!) and no longer make sense.  The sacramental priesthood is about service, not genitals. Ordained priests do #  sitting down.  Why in the world is it that they cannot do #  sitting down as well?  Allow the Lord to call women to the ministerial priesthood, and the life of the Church will be much better!\n",
       "3    Climate change, in the sense discussed in the Pope's encyclical, is a dubious theory at best. Also,  your claim that  % of the \"scientific community\" supports the theory is  patently false. In any event for a pope to give his imprimatur to a scientific theory is unprecedented.   He has no competence in this area and should not  lend credibility to what is essentially a prudential matter.    There is nothing wrong with Trump's approach to Russia, and there is no reason for the Catholic Church at this time and under current current circumstances to advise anyone, let alone the President on the matter. Again this is a prudential matter.   Relations between nations have nothing to do with what a country has done in terms of \"Suppressing democracy\". What planet do you live on.   As for as poverty is concerned, the Pope should speak out against the corrupt governments that keep people in poverty and ignorance. Thinking that America can pay to save the world misses the point.\n",
       "5                                                                                                                                                                                             Same thing on my Facebook. I was attacked for saying Orlando was an Islamist terrorist attack. I was told it had nothing to do with Islam. It was a hate-crime against gays and LGBT people, they said.  Well, the fact is the terrorist posted on his own Facebook, put it on Twitter, and said it in text messages on his own phone that his assault on the nightclub was SUPPORT FOR ISIS. He never once on Facebook, Twitter or texting said he hated gays. The fact he chose the nightclub for his attack was, in all likelihood, because he knew the nightclub inside and out: the doors, windows, exits, etc. And he knew there would be a lot of people to kill there.  The terrorist declared his support for ISIS and never once mentioned gays. However the regressive-left 'liberals' refused to accept the facts.\n",
       "Name: comment_text, dtype: object"
      ]
     },
     "execution_count": 18,
     "metadata": {},
     "output_type": "execute_result"
    }
   ],
   "source": [
    "regex = r' {2,}'\n",
    "print(corp.str.count(regex, flags=re.I).sum())\n",
    "corp[corp.str.contains(regex, na=False, case=False)].head()"
   ]
  },
  {
   "cell_type": "code",
   "execution_count": 19,
   "metadata": {},
   "outputs": [
    {
     "name": "stdout",
     "output_type": "stream",
     "text": [
      "0\n"
     ]
    }
   ],
   "source": [
    "corp = corp.str.replace(regex, ' ', regex=True, case=False)\n",
    "print(corp.str.count(regex, flags=re.I).sum())"
   ]
  },
  {
   "cell_type": "markdown",
   "metadata": {},
   "source": [
    "### Show data size after cleaning"
   ]
  },
  {
   "cell_type": "code",
   "execution_count": 20,
   "metadata": {},
   "outputs": [
    {
     "name": "stdout",
     "output_type": "stream",
     "text": [
      "Number of words in corpus after cleaning: 20,050,329 (before: 20,096,710)\n"
     ]
    }
   ],
   "source": [
    "num_words_after = corp.str.count(r'\\S+', flags=re.I).sum()\n",
    "\n",
    "print(f'Number of words in corpus after cleaning: {num_words_after:,} (before: {num_words_before:,})')"
   ]
  },
  {
   "cell_type": "markdown",
   "metadata": {},
   "source": [
    "## Preprocess data with spaCy\n",
    "\n",
    "See: https://realpython.com/natural-language-processing-spacy-python/\n"
   ]
  },
  {
   "cell_type": "code",
   "execution_count": 25,
   "metadata": {},
   "outputs": [],
   "source": [
    "# load English language model\n",
    "nlp = spacy.load('en_core_web_sm')"
   ]
  },
  {
   "cell_type": "markdown",
   "metadata": {},
   "source": [
    "### Tokenize, remove punctuation, make lower case, lemmatize, remove stop words"
   ]
  },
  {
   "cell_type": "code",
   "execution_count": 26,
   "metadata": {},
   "outputs": [],
   "source": [
    "def preprocess(s):\n",
    "    doc = nlp(s)\n",
    "    \n",
    "    tokens = [token.text.lower()\n",
    "              for token in doc\n",
    "              if not token.is_punct]\n",
    "    \n",
    "    tokens_lemma = [token.lemma_.lower()\n",
    "              for token in doc\n",
    "              if not token.is_punct]\n",
    "    \n",
    "    tokens_lemma_stop = [token.lemma_.lower()\n",
    "              for token in doc\n",
    "              if not token.is_punct and not token.is_stop]\n",
    "    \n",
    "    # convert lists to space-separated strings and return as Series\n",
    "    return pd.Series([' '.join(tokens),\n",
    "                      ' '.join(tokens_lemma),\n",
    "                      ' '.join(tokens_lemma_stop)],\n",
    "                      index=['clean_pp',\n",
    "                             'clean_pp_lemma',\n",
    "                             'clean_pp_lemma_stop'])"
   ]
  },
  {
   "cell_type": "code",
   "execution_count": 27,
   "metadata": {},
   "outputs": [
    {
     "name": "stderr",
     "output_type": "stream",
     "text": [
      "100%|████████████████████████████████████████████████████████████████████████████████████| 399455/399455 [15:55:20<00:00,  6.97it/s]\n"
     ]
    },
    {
     "data": {
      "text/html": [
       "<div>\n",
       "<style scoped>\n",
       "    .dataframe tbody tr th:only-of-type {\n",
       "        vertical-align: middle;\n",
       "    }\n",
       "\n",
       "    .dataframe tbody tr th {\n",
       "        vertical-align: top;\n",
       "    }\n",
       "\n",
       "    .dataframe thead th {\n",
       "        text-align: right;\n",
       "    }\n",
       "</style>\n",
       "<table border=\"1\" class=\"dataframe\">\n",
       "  <thead>\n",
       "    <tr style=\"text-align: right;\">\n",
       "      <th></th>\n",
       "      <th>clean_pp</th>\n",
       "      <th>clean_pp_lemma</th>\n",
       "      <th>clean_pp_lemma_stop</th>\n",
       "    </tr>\n",
       "  </thead>\n",
       "  <tbody>\n",
       "    <tr>\n",
       "      <th>0</th>\n",
       "      <td>trudeau with a brain i assume you are taking about pierre ca n't imagine anyone else</td>\n",
       "      <td>trudeau with a brain i assume you be take about pierre can not imagine anyone else</td>\n",
       "      <td>trudeau brain assume take pierre imagine</td>\n",
       "    </tr>\n",
       "    <tr>\n",
       "      <th>1</th>\n",
       "      <td>the jones act was immediately lifted to help texas and florida it took the nation two weeks of shaming trump before he acted to help puerto rico he spent that time making lame and nonsensical excuses for why he could n't lift the ban in other news trump continues to shore up his racist base by dropping more racial dog whistles now he says nfl owners are afraid of their black players yep the plantation is under threat by the uppitys all over again trump is a racist and a traitor</td>\n",
       "      <td>the jones act be immediately lift to help texas and florida it take the nation two week of shame trump before he act to help puerto rico he spend that time make lame and nonsensical excuse for why he could not lift the ban in other news trump continue to shore up his racist base by drop more racial dog whistle now he say nfl owner be afraid of their black player yep the plantation be under threat by the uppitys all over again trump be a racist and a traitor</td>\n",
       "      <td>jones act immediately lift help texas florida take nation week shame trump act help puerto rico spend time make lame nonsensical excuse lift ban news trump continue shore racist base drop racial dog whistle say nfl owner afraid black player yep plantation threat uppitys trump racist traitor</td>\n",
       "    </tr>\n",
       "    <tr>\n",
       "      <th>2</th>\n",
       "      <td>as long as the church keeps preventing the lord from calling women to the sacramental priesthood there is a fundamental imbalance driven by patriarchal gender ideology that is harmful to the entire body of christ male and female the vocation crisis is not about women just as it is not about men it is about letting go of a patriarchal culture that is passing away and allowing the lord to call those he wants here and now men and women to all vocations including the sacramental priesthood and the episcopate without imposing artificial gender walls that are heritage from the old law not the new law and no longer make sense the sacramental priesthood is about service not genitals ordained priests do sitting down why in the world is it that they can not do sitting down as well allow the lord to call women to the ministerial priesthood and the life of the church will be much better</td>\n",
       "      <td>as long as the church keep prevent the lord from call woman to the sacramental priesthood there be a fundamental imbalance drive by patriarchal gender ideology that be harmful to the entire body of christ male and female the vocation crisis be not about woman just as it be not about man it be about let go of a patriarchal culture that be pass away and allow the lord to call those he want here and now man and woman to all vocation include the sacramental priesthood and the episcopate without impose artificial gender wall that be heritage from the old law not the new law and no long make sense the sacramental priesthood be about service not genital ordain priest do sit down why in the world be it that they can not do sit down as well allow the lord to call woman to the ministerial priesthood and the life of the church will be much well</td>\n",
       "      <td>long church keep prevent lord call woman sacramental priesthood fundamental imbalance drive patriarchal gender ideology harmful entire body christ male female vocation crisis woman man let patriarchal culture pass away allow lord want man woman vocation include sacramental priesthood episcopate impose artificial gender wall heritage old law new law long sense sacramental priesthood service genital ordain priest sit world sit allow lord woman ministerial priesthood life church well</td>\n",
       "    </tr>\n",
       "    <tr>\n",
       "      <th>3</th>\n",
       "      <td>climate change in the sense discussed in the pope 's encyclical is a dubious theory at best also your claim that of the scientific community supports the theory is patently false in any event for a pope to give his imprimatur to a scientific theory is unprecedented he has no competence in this area and should not lend credibility to what is essentially a prudential matter there is nothing wrong with trump 's approach to russia and there is no reason for the catholic church at this time and under current current circumstances to advise anyone let alone the president on the matter again this is a prudential matter relations between nations have nothing to do with what a country has done in terms of suppressing democracy what planet do you live on as for as poverty is concerned the pope should speak out against the corrupt governments that keep people in poverty and ignorance thinking that america can pay to save the world misses the point</td>\n",
       "      <td>climate change in the sense discuss in the pope 's encyclical be a dubious theory at well also your claim that of the scientific community support the theory be patently false in any event for a pope to give his imprimatur to a scientific theory be unprecedented he have no competence in this area and should not lend credibility to what be essentially a prudential matter there be nothing wrong with trump 's approach to russia and there be no reason for the catholic church at this time and under current current circumstance to advise anyone let alone the president on the matter again this be a prudential matter relation between nation have nothing to do with what a country have do in term of suppress democracy what planet do you live on as for as poverty be concern the pope should speak out against the corrupt government that keep people in poverty and ignorance think that america can pay to save the world miss the point</td>\n",
       "      <td>climate change sense discuss pope encyclical dubious theory well claim scientific community support theory patently false event pope imprimatur scientific theory unprecedented competence area lend credibility essentially prudential matter wrong trump approach russia reason catholic church time current current circumstance advise let president matter prudential matter relation nation country term suppress democracy planet live poverty concern pope speak corrupt government people poverty ignorance think america pay save world miss point</td>\n",
       "    </tr>\n",
       "    <tr>\n",
       "      <th>4</th>\n",
       "      <td>fake news now she is lying figures she is making her millions and gosh darn her detractors do n't scare her so there she needs to shut up herself</td>\n",
       "      <td>fake news now she be lie figure she be make her million and gosh darn her detractor do not scare she so there she need to shut up herself</td>\n",
       "      <td>fake news lie figure make million gosh darn detractor scare need shut</td>\n",
       "    </tr>\n",
       "  </tbody>\n",
       "</table>\n",
       "</div>"
      ],
      "text/plain": [
       "                                                                                                                                                                                                                                                                                                                                                                                                                                                                                                                                                                                                                                                                                                                                                                                                                                                                                                                                                                                 clean_pp  \\\n",
       "0                                                                                                                                                                                                                                                                                                                                                                                                                                                                                                                                                                                                                                                                                                                                                                                                                                                                                                    trudeau with a brain i assume you are taking about pierre ca n't imagine anyone else   \n",
       "1                                                                                                                                                                                                                                                                                                                                                                                                                                                                                      the jones act was immediately lifted to help texas and florida it took the nation two weeks of shaming trump before he acted to help puerto rico he spent that time making lame and nonsensical excuses for why he could n't lift the ban in other news trump continues to shore up his racist base by dropping more racial dog whistles now he says nfl owners are afraid of their black players yep the plantation is under threat by the uppitys all over again trump is a racist and a traitor   \n",
       "2                                                                 as long as the church keeps preventing the lord from calling women to the sacramental priesthood there is a fundamental imbalance driven by patriarchal gender ideology that is harmful to the entire body of christ male and female the vocation crisis is not about women just as it is not about men it is about letting go of a patriarchal culture that is passing away and allowing the lord to call those he wants here and now men and women to all vocations including the sacramental priesthood and the episcopate without imposing artificial gender walls that are heritage from the old law not the new law and no longer make sense the sacramental priesthood is about service not genitals ordained priests do sitting down why in the world is it that they can not do sitting down as well allow the lord to call women to the ministerial priesthood and the life of the church will be much better   \n",
       "3  climate change in the sense discussed in the pope 's encyclical is a dubious theory at best also your claim that of the scientific community supports the theory is patently false in any event for a pope to give his imprimatur to a scientific theory is unprecedented he has no competence in this area and should not lend credibility to what is essentially a prudential matter there is nothing wrong with trump 's approach to russia and there is no reason for the catholic church at this time and under current current circumstances to advise anyone let alone the president on the matter again this is a prudential matter relations between nations have nothing to do with what a country has done in terms of suppressing democracy what planet do you live on as for as poverty is concerned the pope should speak out against the corrupt governments that keep people in poverty and ignorance thinking that america can pay to save the world misses the point   \n",
       "4                                                                                                                                                                                                                                                                                                                                                                                                                                                                                                                                                                                                                                                                                                                                                                                                                                       fake news now she is lying figures she is making her millions and gosh darn her detractors do n't scare her so there she needs to shut up herself   \n",
       "\n",
       "                                                                                                                                                                                                                                                                                                                                                                                                                                                                                                                                                                                                                                                                                                                                                                                                                                                                                                                                                         clean_pp_lemma  \\\n",
       "0                                                                                                                                                                                                                                                                                                                                                                                                                                                                                                                                                                                                                                                                                                                                                                                                                                                                                    trudeau with a brain i assume you be take about pierre can not imagine anyone else   \n",
       "1                                                                                                                                                                                                                                                                                                                                                                                                                                                                                         the jones act be immediately lift to help texas and florida it take the nation two week of shame trump before he act to help puerto rico he spend that time make lame and nonsensical excuse for why he could not lift the ban in other news trump continue to shore up his racist base by drop more racial dog whistle now he say nfl owner be afraid of their black player yep the plantation be under threat by the uppitys all over again trump be a racist and a traitor   \n",
       "2                                                                                         as long as the church keep prevent the lord from call woman to the sacramental priesthood there be a fundamental imbalance drive by patriarchal gender ideology that be harmful to the entire body of christ male and female the vocation crisis be not about woman just as it be not about man it be about let go of a patriarchal culture that be pass away and allow the lord to call those he want here and now man and woman to all vocation include the sacramental priesthood and the episcopate without impose artificial gender wall that be heritage from the old law not the new law and no long make sense the sacramental priesthood be about service not genital ordain priest do sit down why in the world be it that they can not do sit down as well allow the lord to call woman to the ministerial priesthood and the life of the church will be much well   \n",
       "3  climate change in the sense discuss in the pope 's encyclical be a dubious theory at well also your claim that of the scientific community support the theory be patently false in any event for a pope to give his imprimatur to a scientific theory be unprecedented he have no competence in this area and should not lend credibility to what be essentially a prudential matter there be nothing wrong with trump 's approach to russia and there be no reason for the catholic church at this time and under current current circumstance to advise anyone let alone the president on the matter again this be a prudential matter relation between nation have nothing to do with what a country have do in term of suppress democracy what planet do you live on as for as poverty be concern the pope should speak out against the corrupt government that keep people in poverty and ignorance think that america can pay to save the world miss the point   \n",
       "4                                                                                                                                                                                                                                                                                                                                                                                                                                                                                                                                                                                                                                                                                                                                                                                                                             fake news now she be lie figure she be make her million and gosh darn her detractor do not scare she so there she need to shut up herself   \n",
       "\n",
       "                                                                                                                                                                                                                                                                                                                                                                                                                                                                                                                                            clean_pp_lemma_stop  \n",
       "0                                                                                                                                                                                                                                                                                                                                                                                                                                                                                                                      trudeau brain assume take pierre imagine  \n",
       "1                                                                                                                                                                                                                                                           jones act immediately lift help texas florida take nation week shame trump act help puerto rico spend time make lame nonsensical excuse lift ban news trump continue shore racist base drop racial dog whistle say nfl owner afraid black player yep plantation threat uppitys trump racist traitor  \n",
       "2                                                         long church keep prevent lord call woman sacramental priesthood fundamental imbalance drive patriarchal gender ideology harmful entire body christ male female vocation crisis woman man let patriarchal culture pass away allow lord want man woman vocation include sacramental priesthood episcopate impose artificial gender wall heritage old law new law long sense sacramental priesthood service genital ordain priest sit world sit allow lord woman ministerial priesthood life church well  \n",
       "3  climate change sense discuss pope encyclical dubious theory well claim scientific community support theory patently false event pope imprimatur scientific theory unprecedented competence area lend credibility essentially prudential matter wrong trump approach russia reason catholic church time current current circumstance advise let president matter prudential matter relation nation country term suppress democracy planet live poverty concern pope speak corrupt government people poverty ignorance think america pay save world miss point  \n",
       "4                                                                                                                                                                                                                                                                                                                                                                                                                                                                                         fake news lie figure make million gosh darn detractor scare need shut  "
      ]
     },
     "execution_count": 27,
     "metadata": {},
     "output_type": "execute_result"
    }
   ],
   "source": [
    "corp_pp = corp.progress_apply(preprocess)\n",
    "corp_pp.head()"
   ]
  },
  {
   "cell_type": "markdown",
   "metadata": {},
   "source": [
    "## Create new df with raw + cleaned + preprocessed comments + target"
   ]
  },
  {
   "cell_type": "code",
   "execution_count": 29,
   "metadata": {},
   "outputs": [
    {
     "data": {
      "text/html": [
       "<div>\n",
       "<style scoped>\n",
       "    .dataframe tbody tr th:only-of-type {\n",
       "        vertical-align: middle;\n",
       "    }\n",
       "\n",
       "    .dataframe tbody tr th {\n",
       "        vertical-align: top;\n",
       "    }\n",
       "\n",
       "    .dataframe thead th {\n",
       "        text-align: right;\n",
       "    }\n",
       "</style>\n",
       "<table border=\"1\" class=\"dataframe\">\n",
       "  <thead>\n",
       "    <tr style=\"text-align: right;\">\n",
       "      <th></th>\n",
       "      <th>raw</th>\n",
       "      <th>clean</th>\n",
       "      <th>clean_pp</th>\n",
       "      <th>clean_pp_lemma</th>\n",
       "      <th>clean_pp_lemma_stop</th>\n",
       "      <th>toxic</th>\n",
       "    </tr>\n",
       "  </thead>\n",
       "  <tbody>\n",
       "    <tr>\n",
       "      <th>0</th>\n",
       "      <td>Trudeau with a brain?  I assume you are taking about Pierre. Can't imagine anyone else.</td>\n",
       "      <td>Trudeau with a brain? I assume you are taking about Pierre. Can't imagine anyone else.</td>\n",
       "      <td>trudeau with a brain i assume you are taking about pierre ca n't imagine anyone else</td>\n",
       "      <td>trudeau with a brain i assume you be take about pierre can not imagine anyone else</td>\n",
       "      <td>trudeau brain assume take pierre imagine</td>\n",
       "      <td>1</td>\n",
       "    </tr>\n",
       "    <tr>\n",
       "      <th>1</th>\n",
       "      <td>The Jones Act was immediately lifted to help Texas and Florida.\\n\\nIt took the nation two weeks of shaming Trump before he acted to help Puerto Rico.\\n\\nHe spent that time making lame and nonsensical excuses for why he couldn't lift the ban.\\n\\nIn other news:\\n\\nTrump continues to shore up his racist base by dropping more racial dog whistles. Now he says NFL owners are 'afraid' of their black players.\\n\\nYep, the plantation is under threat by the uppitys all over again.  Trump is a racist.\\n\\nAnd a traitor.</td>\n",
       "      <td>The Jones Act was immediately lifted to help Texas and Florida. It took the nation two weeks of shaming Trump before he acted to help Puerto Rico. He spent that time making lame and nonsensical excuses for why he couldn't lift the ban. In other news: Trump continues to shore up his racist base by dropping more racial dog whistles. Now he says NFL owners are 'afraid' of their black players. Yep, the plantation is under threat by the uppitys all over again. Trump is a racist. And a traitor.</td>\n",
       "      <td>the jones act was immediately lifted to help texas and florida it took the nation two weeks of shaming trump before he acted to help puerto rico he spent that time making lame and nonsensical excuses for why he could n't lift the ban in other news trump continues to shore up his racist base by dropping more racial dog whistles now he says nfl owners are afraid of their black players yep the plantation is under threat by the uppitys all over again trump is a racist and a traitor</td>\n",
       "      <td>the jones act be immediately lift to help texas and florida it take the nation two week of shame trump before he act to help puerto rico he spend that time make lame and nonsensical excuse for why he could not lift the ban in other news trump continue to shore up his racist base by drop more racial dog whistle now he say nfl owner be afraid of their black player yep the plantation be under threat by the uppitys all over again trump be a racist and a traitor</td>\n",
       "      <td>jones act immediately lift help texas florida take nation week shame trump act help puerto rico spend time make lame nonsensical excuse lift ban news trump continue shore racist base drop racial dog whistle say nfl owner afraid black player yep plantation threat uppitys trump racist traitor</td>\n",
       "      <td>1</td>\n",
       "    </tr>\n",
       "    <tr>\n",
       "      <th>2</th>\n",
       "      <td>As long as the Church keeps preventing the Lord from calling women to the sacramental priesthood, there is a fundamental imbalance, driven by patriarchal gender ideology, that is harmful to the entire body of Christ, male and female.  The vocation crisis is not about women, just as it is not about men.  It is about letting go of a patriarchal culture that is passing away, and allowing the Lord to call those he wants here and now, men and women, to all vocations, including the sacramental priesthood and the episcopate, without imposing artificial gender walls that are heritage from the Old Law (not the New Law!) and no longer make sense.  The sacramental priesthood is about service, not genitals. Ordained priests do #2 sitting down.  Why in the world is it that they cannot do #1 sitting down as well?  Allow the Lord to call women to the ministerial priesthood, and the life of the Church will be much better!</td>\n",
       "      <td>As long as the Church keeps preventing the Lord from calling women to the sacramental priesthood, there is a fundamental imbalance, driven by patriarchal gender ideology, that is harmful to the entire body of Christ, male and female. The vocation crisis is not about women, just as it is not about men. It is about letting go of a patriarchal culture that is passing away, and allowing the Lord to call those he wants here and now, men and women, to all vocations, including the sacramental priesthood and the episcopate, without imposing artificial gender walls that are heritage from the Old Law (not the New Law!) and no longer make sense. The sacramental priesthood is about service, not genitals. Ordained priests do # sitting down. Why in the world is it that they cannot do # sitting down as well? Allow the Lord to call women to the ministerial priesthood, and the life of the Church will be much better!</td>\n",
       "      <td>as long as the church keeps preventing the lord from calling women to the sacramental priesthood there is a fundamental imbalance driven by patriarchal gender ideology that is harmful to the entire body of christ male and female the vocation crisis is not about women just as it is not about men it is about letting go of a patriarchal culture that is passing away and allowing the lord to call those he wants here and now men and women to all vocations including the sacramental priesthood and the episcopate without imposing artificial gender walls that are heritage from the old law not the new law and no longer make sense the sacramental priesthood is about service not genitals ordained priests do sitting down why in the world is it that they can not do sitting down as well allow the lord to call women to the ministerial priesthood and the life of the church will be much better</td>\n",
       "      <td>as long as the church keep prevent the lord from call woman to the sacramental priesthood there be a fundamental imbalance drive by patriarchal gender ideology that be harmful to the entire body of christ male and female the vocation crisis be not about woman just as it be not about man it be about let go of a patriarchal culture that be pass away and allow the lord to call those he want here and now man and woman to all vocation include the sacramental priesthood and the episcopate without impose artificial gender wall that be heritage from the old law not the new law and no long make sense the sacramental priesthood be about service not genital ordain priest do sit down why in the world be it that they can not do sit down as well allow the lord to call woman to the ministerial priesthood and the life of the church will be much well</td>\n",
       "      <td>long church keep prevent lord call woman sacramental priesthood fundamental imbalance drive patriarchal gender ideology harmful entire body christ male female vocation crisis woman man let patriarchal culture pass away allow lord want man woman vocation include sacramental priesthood episcopate impose artificial gender wall heritage old law new law long sense sacramental priesthood service genital ordain priest sit world sit allow lord woman ministerial priesthood life church well</td>\n",
       "      <td>0</td>\n",
       "    </tr>\n",
       "    <tr>\n",
       "      <th>3</th>\n",
       "      <td>Climate change, in the sense discussed in the Pope's encyclical, is a dubious theory at best. Also,  your claim that 95% of the \"scientific community\" supports the theory is  patently false. In any event for a pope to give his imprimatur to a scientific theory is unprecedented.   He has no competence in this area and should not \\nlend credibility to what is essentially a prudential matter.  \\n\\nThere is nothing wrong with Trump's approach to Russia, and there is no reason for the Catholic Church at this time and under current current circumstances to advise anyone, let alone the President on the matter. Again this is a prudential matter. \\n\\nRelations between nations have nothing to do with what a country has done in terms of \"Suppressing democracy\". What planet do you live on. \\n\\nAs for as poverty is concerned, the Pope should speak out against the corrupt governments that keep people in poverty and ignorance. Thinking that America can pay to save the world misses the point.</td>\n",
       "      <td>Climate change, in the sense discussed in the Pope's encyclical, is a dubious theory at best. Also, your claim that % of the \"scientific community\" supports the theory is patently false. In any event for a pope to give his imprimatur to a scientific theory is unprecedented. He has no competence in this area and should not lend credibility to what is essentially a prudential matter. There is nothing wrong with Trump's approach to Russia, and there is no reason for the Catholic Church at this time and under current current circumstances to advise anyone, let alone the President on the matter. Again this is a prudential matter. Relations between nations have nothing to do with what a country has done in terms of \"Suppressing democracy\". What planet do you live on. As for as poverty is concerned, the Pope should speak out against the corrupt governments that keep people in poverty and ignorance. Thinking that America can pay to save the world misses the point.</td>\n",
       "      <td>climate change in the sense discussed in the pope 's encyclical is a dubious theory at best also your claim that of the scientific community supports the theory is patently false in any event for a pope to give his imprimatur to a scientific theory is unprecedented he has no competence in this area and should not lend credibility to what is essentially a prudential matter there is nothing wrong with trump 's approach to russia and there is no reason for the catholic church at this time and under current current circumstances to advise anyone let alone the president on the matter again this is a prudential matter relations between nations have nothing to do with what a country has done in terms of suppressing democracy what planet do you live on as for as poverty is concerned the pope should speak out against the corrupt governments that keep people in poverty and ignorance thinking that america can pay to save the world misses the point</td>\n",
       "      <td>climate change in the sense discuss in the pope 's encyclical be a dubious theory at well also your claim that of the scientific community support the theory be patently false in any event for a pope to give his imprimatur to a scientific theory be unprecedented he have no competence in this area and should not lend credibility to what be essentially a prudential matter there be nothing wrong with trump 's approach to russia and there be no reason for the catholic church at this time and under current current circumstance to advise anyone let alone the president on the matter again this be a prudential matter relation between nation have nothing to do with what a country have do in term of suppress democracy what planet do you live on as for as poverty be concern the pope should speak out against the corrupt government that keep people in poverty and ignorance think that america can pay to save the world miss the point</td>\n",
       "      <td>climate change sense discuss pope encyclical dubious theory well claim scientific community support theory patently false event pope imprimatur scientific theory unprecedented competence area lend credibility essentially prudential matter wrong trump approach russia reason catholic church time current current circumstance advise let president matter prudential matter relation nation country term suppress democracy planet live poverty concern pope speak corrupt government people poverty ignorance think america pay save world miss point</td>\n",
       "      <td>0</td>\n",
       "    </tr>\n",
       "    <tr>\n",
       "      <th>4</th>\n",
       "      <td>Fake news...now she is lying. figures....she is making her millions and gosh darn, her detractors don't scare her, so there!!! She needs to shut up, herself.</td>\n",
       "      <td>Fake news...now she is lying. figures....she is making her millions and gosh darn, her detractors don't scare her, so there!!! She needs to shut up, herself.</td>\n",
       "      <td>fake news now she is lying figures she is making her millions and gosh darn her detractors do n't scare her so there she needs to shut up herself</td>\n",
       "      <td>fake news now she be lie figure she be make her million and gosh darn her detractor do not scare she so there she need to shut up herself</td>\n",
       "      <td>fake news lie figure make million gosh darn detractor scare need shut</td>\n",
       "      <td>1</td>\n",
       "    </tr>\n",
       "  </tbody>\n",
       "</table>\n",
       "</div>"
      ],
      "text/plain": [
       "                                                                                                                                                                                                                                                                                                                                                                                                                                                                                                                                                                                                                                                                                                                                                                                                                                                                                                                                                                                                                               raw  \\\n",
       "0                                                                                                                                                                                                                                                                                                                                                                                                                                                                                                                                                                                                                                                                                                                                                                                                                                                                                                                                          Trudeau with a brain?  I assume you are taking about Pierre. Can't imagine anyone else.   \n",
       "1                                                                                                                                                                                                                                                                                                                                                                                                                                                                                                 The Jones Act was immediately lifted to help Texas and Florida.\\n\\nIt took the nation two weeks of shaming Trump before he acted to help Puerto Rico.\\n\\nHe spent that time making lame and nonsensical excuses for why he couldn't lift the ban.\\n\\nIn other news:\\n\\nTrump continues to shore up his racist base by dropping more racial dog whistles. Now he says NFL owners are 'afraid' of their black players.\\n\\nYep, the plantation is under threat by the uppitys all over again.  Trump is a racist.\\n\\nAnd a traitor.   \n",
       "2                                                                          As long as the Church keeps preventing the Lord from calling women to the sacramental priesthood, there is a fundamental imbalance, driven by patriarchal gender ideology, that is harmful to the entire body of Christ, male and female.  The vocation crisis is not about women, just as it is not about men.  It is about letting go of a patriarchal culture that is passing away, and allowing the Lord to call those he wants here and now, men and women, to all vocations, including the sacramental priesthood and the episcopate, without imposing artificial gender walls that are heritage from the Old Law (not the New Law!) and no longer make sense.  The sacramental priesthood is about service, not genitals. Ordained priests do #2 sitting down.  Why in the world is it that they cannot do #1 sitting down as well?  Allow the Lord to call women to the ministerial priesthood, and the life of the Church will be much better!   \n",
       "3  Climate change, in the sense discussed in the Pope's encyclical, is a dubious theory at best. Also,  your claim that 95% of the \"scientific community\" supports the theory is  patently false. In any event for a pope to give his imprimatur to a scientific theory is unprecedented.   He has no competence in this area and should not \\nlend credibility to what is essentially a prudential matter.  \\n\\nThere is nothing wrong with Trump's approach to Russia, and there is no reason for the Catholic Church at this time and under current current circumstances to advise anyone, let alone the President on the matter. Again this is a prudential matter. \\n\\nRelations between nations have nothing to do with what a country has done in terms of \"Suppressing democracy\". What planet do you live on. \\n\\nAs for as poverty is concerned, the Pope should speak out against the corrupt governments that keep people in poverty and ignorance. Thinking that America can pay to save the world misses the point.   \n",
       "4                                                                                                                                                                                                                                                                                                                                                                                                                                                                                                                                                                                                                                                                                                                                                                                                                                                                    Fake news...now she is lying. figures....she is making her millions and gosh darn, her detractors don't scare her, so there!!! She needs to shut up, herself.   \n",
       "\n",
       "                                                                                                                                                                                                                                                                                                                                                                                                                                                                                                                                                                                                                                                                                                                                                                                                                                                                                                                                                                                                        clean  \\\n",
       "0                                                                                                                                                                                                                                                                                                                                                                                                                                                                                                                                                                                                                                                                                                                                                                                                                                                                                                                      Trudeau with a brain? I assume you are taking about Pierre. Can't imagine anyone else.   \n",
       "1                                                                                                                                                                                                                                                                                                                                                                                                                                                                                               The Jones Act was immediately lifted to help Texas and Florida. It took the nation two weeks of shaming Trump before he acted to help Puerto Rico. He spent that time making lame and nonsensical excuses for why he couldn't lift the ban. In other news: Trump continues to shore up his racist base by dropping more racial dog whistles. Now he says NFL owners are 'afraid' of their black players. Yep, the plantation is under threat by the uppitys all over again. Trump is a racist. And a traitor.   \n",
       "2                                                            As long as the Church keeps preventing the Lord from calling women to the sacramental priesthood, there is a fundamental imbalance, driven by patriarchal gender ideology, that is harmful to the entire body of Christ, male and female. The vocation crisis is not about women, just as it is not about men. It is about letting go of a patriarchal culture that is passing away, and allowing the Lord to call those he wants here and now, men and women, to all vocations, including the sacramental priesthood and the episcopate, without imposing artificial gender walls that are heritage from the Old Law (not the New Law!) and no longer make sense. The sacramental priesthood is about service, not genitals. Ordained priests do # sitting down. Why in the world is it that they cannot do # sitting down as well? Allow the Lord to call women to the ministerial priesthood, and the life of the Church will be much better!   \n",
       "3  Climate change, in the sense discussed in the Pope's encyclical, is a dubious theory at best. Also, your claim that % of the \"scientific community\" supports the theory is patently false. In any event for a pope to give his imprimatur to a scientific theory is unprecedented. He has no competence in this area and should not lend credibility to what is essentially a prudential matter. There is nothing wrong with Trump's approach to Russia, and there is no reason for the Catholic Church at this time and under current current circumstances to advise anyone, let alone the President on the matter. Again this is a prudential matter. Relations between nations have nothing to do with what a country has done in terms of \"Suppressing democracy\". What planet do you live on. As for as poverty is concerned, the Pope should speak out against the corrupt governments that keep people in poverty and ignorance. Thinking that America can pay to save the world misses the point.   \n",
       "4                                                                                                                                                                                                                                                                                                                                                                                                                                                                                                                                                                                                                                                                                                                                                                                                                                               Fake news...now she is lying. figures....she is making her millions and gosh darn, her detractors don't scare her, so there!!! She needs to shut up, herself.   \n",
       "\n",
       "                                                                                                                                                                                                                                                                                                                                                                                                                                                                                                                                                                                                                                                                                                                                                                                                                                                                                                                                                                                 clean_pp  \\\n",
       "0                                                                                                                                                                                                                                                                                                                                                                                                                                                                                                                                                                                                                                                                                                                                                                                                                                                                                                    trudeau with a brain i assume you are taking about pierre ca n't imagine anyone else   \n",
       "1                                                                                                                                                                                                                                                                                                                                                                                                                                                                                      the jones act was immediately lifted to help texas and florida it took the nation two weeks of shaming trump before he acted to help puerto rico he spent that time making lame and nonsensical excuses for why he could n't lift the ban in other news trump continues to shore up his racist base by dropping more racial dog whistles now he says nfl owners are afraid of their black players yep the plantation is under threat by the uppitys all over again trump is a racist and a traitor   \n",
       "2                                                                 as long as the church keeps preventing the lord from calling women to the sacramental priesthood there is a fundamental imbalance driven by patriarchal gender ideology that is harmful to the entire body of christ male and female the vocation crisis is not about women just as it is not about men it is about letting go of a patriarchal culture that is passing away and allowing the lord to call those he wants here and now men and women to all vocations including the sacramental priesthood and the episcopate without imposing artificial gender walls that are heritage from the old law not the new law and no longer make sense the sacramental priesthood is about service not genitals ordained priests do sitting down why in the world is it that they can not do sitting down as well allow the lord to call women to the ministerial priesthood and the life of the church will be much better   \n",
       "3  climate change in the sense discussed in the pope 's encyclical is a dubious theory at best also your claim that of the scientific community supports the theory is patently false in any event for a pope to give his imprimatur to a scientific theory is unprecedented he has no competence in this area and should not lend credibility to what is essentially a prudential matter there is nothing wrong with trump 's approach to russia and there is no reason for the catholic church at this time and under current current circumstances to advise anyone let alone the president on the matter again this is a prudential matter relations between nations have nothing to do with what a country has done in terms of suppressing democracy what planet do you live on as for as poverty is concerned the pope should speak out against the corrupt governments that keep people in poverty and ignorance thinking that america can pay to save the world misses the point   \n",
       "4                                                                                                                                                                                                                                                                                                                                                                                                                                                                                                                                                                                                                                                                                                                                                                                                                                       fake news now she is lying figures she is making her millions and gosh darn her detractors do n't scare her so there she needs to shut up herself   \n",
       "\n",
       "                                                                                                                                                                                                                                                                                                                                                                                                                                                                                                                                                                                                                                                                                                                                                                                                                                                                                                                                                         clean_pp_lemma  \\\n",
       "0                                                                                                                                                                                                                                                                                                                                                                                                                                                                                                                                                                                                                                                                                                                                                                                                                                                                                    trudeau with a brain i assume you be take about pierre can not imagine anyone else   \n",
       "1                                                                                                                                                                                                                                                                                                                                                                                                                                                                                         the jones act be immediately lift to help texas and florida it take the nation two week of shame trump before he act to help puerto rico he spend that time make lame and nonsensical excuse for why he could not lift the ban in other news trump continue to shore up his racist base by drop more racial dog whistle now he say nfl owner be afraid of their black player yep the plantation be under threat by the uppitys all over again trump be a racist and a traitor   \n",
       "2                                                                                         as long as the church keep prevent the lord from call woman to the sacramental priesthood there be a fundamental imbalance drive by patriarchal gender ideology that be harmful to the entire body of christ male and female the vocation crisis be not about woman just as it be not about man it be about let go of a patriarchal culture that be pass away and allow the lord to call those he want here and now man and woman to all vocation include the sacramental priesthood and the episcopate without impose artificial gender wall that be heritage from the old law not the new law and no long make sense the sacramental priesthood be about service not genital ordain priest do sit down why in the world be it that they can not do sit down as well allow the lord to call woman to the ministerial priesthood and the life of the church will be much well   \n",
       "3  climate change in the sense discuss in the pope 's encyclical be a dubious theory at well also your claim that of the scientific community support the theory be patently false in any event for a pope to give his imprimatur to a scientific theory be unprecedented he have no competence in this area and should not lend credibility to what be essentially a prudential matter there be nothing wrong with trump 's approach to russia and there be no reason for the catholic church at this time and under current current circumstance to advise anyone let alone the president on the matter again this be a prudential matter relation between nation have nothing to do with what a country have do in term of suppress democracy what planet do you live on as for as poverty be concern the pope should speak out against the corrupt government that keep people in poverty and ignorance think that america can pay to save the world miss the point   \n",
       "4                                                                                                                                                                                                                                                                                                                                                                                                                                                                                                                                                                                                                                                                                                                                                                                                                             fake news now she be lie figure she be make her million and gosh darn her detractor do not scare she so there she need to shut up herself   \n",
       "\n",
       "                                                                                                                                                                                                                                                                                                                                                                                                                                                                                                                                            clean_pp_lemma_stop  \\\n",
       "0                                                                                                                                                                                                                                                                                                                                                                                                                                                                                                                      trudeau brain assume take pierre imagine   \n",
       "1                                                                                                                                                                                                                                                           jones act immediately lift help texas florida take nation week shame trump act help puerto rico spend time make lame nonsensical excuse lift ban news trump continue shore racist base drop racial dog whistle say nfl owner afraid black player yep plantation threat uppitys trump racist traitor   \n",
       "2                                                         long church keep prevent lord call woman sacramental priesthood fundamental imbalance drive patriarchal gender ideology harmful entire body christ male female vocation crisis woman man let patriarchal culture pass away allow lord want man woman vocation include sacramental priesthood episcopate impose artificial gender wall heritage old law new law long sense sacramental priesthood service genital ordain priest sit world sit allow lord woman ministerial priesthood life church well   \n",
       "3  climate change sense discuss pope encyclical dubious theory well claim scientific community support theory patently false event pope imprimatur scientific theory unprecedented competence area lend credibility essentially prudential matter wrong trump approach russia reason catholic church time current current circumstance advise let president matter prudential matter relation nation country term suppress democracy planet live poverty concern pope speak corrupt government people poverty ignorance think america pay save world miss point   \n",
       "4                                                                                                                                                                                                                                                                                                                                                                                                                                                                                         fake news lie figure make million gosh darn detractor scare need shut   \n",
       "\n",
       "   toxic  \n",
       "0      1  \n",
       "1      1  \n",
       "2      0  \n",
       "3      0  \n",
       "4      1  "
      ]
     },
     "execution_count": 29,
     "metadata": {},
     "output_type": "execute_result"
    }
   ],
   "source": [
    "df_new = pd.concat([df['comment_text'],\n",
    "                    corp,\n",
    "                    corp_pp['clean_pp'],\n",
    "                    corp_pp['clean_pp_lemma'],\n",
    "                    corp_pp['clean_pp_lemma_stop'],\n",
    "                    df['toxic']], axis=1)\n",
    "\n",
    "# column names\n",
    "df_new.columns = ['raw',\n",
    "                  'clean',\n",
    "                  'clean_pp',\n",
    "                  'clean_pp_lemma',\n",
    "                  'clean_pp_lemma_stop',\n",
    "                  'toxic']\n",
    "\n",
    "df_new.head()"
   ]
  },
  {
   "cell_type": "markdown",
   "metadata": {},
   "source": [
    "## Drop rows with NaN's"
   ]
  },
  {
   "cell_type": "code",
   "execution_count": 32,
   "metadata": {},
   "outputs": [],
   "source": [
    "# convert empty strings to NaN\n",
    "df_new.replace('', np.NaN, inplace=True)"
   ]
  },
  {
   "cell_type": "code",
   "execution_count": 33,
   "metadata": {},
   "outputs": [
    {
     "name": "stdout",
     "output_type": "stream",
     "text": [
      "Rows before dropping: 398434\n",
      "Rows after dropping: 398434\n",
      "Rows dropped: 0\n"
     ]
    }
   ],
   "source": [
    "df_new.isna().sum()\n",
    "rows_before = df_new.shape[0]\n",
    "print(\"Rows before dropping:\", rows_before)\n",
    "df_new.dropna(inplace=True)\n",
    "df_new.reset_index(drop=True, inplace=True)\n",
    "rows_after = df_new.shape[0]\n",
    "print('Rows after dropping:', rows_after)\n",
    "print('Rows dropped:', rows_before - rows_after)"
   ]
  },
  {
   "cell_type": "markdown",
   "metadata": {},
   "source": [
    "## Create fastText vectors"
   ]
  },
  {
   "cell_type": "code",
   "execution_count": 34,
   "metadata": {},
   "outputs": [],
   "source": [
    "# # create temp file for fastText\n",
    "# df_new.comment_clean_preproc.to_csv('data/fasttext_training_data_tmp.csv',\n",
    "#                                     index=False, header=False)\n",
    "\n",
    "# # run unsupervised learning to get embeddings\n",
    "# ft = fasttext.train_unsupervised('data/fasttext_training_data_tmp.csv')\n",
    "\n",
    "# # delete temp file\n",
    "# os.remove('data/fasttext_training_data_tmp.csv')"
   ]
  },
  {
   "cell_type": "code",
   "execution_count": null,
   "metadata": {},
   "outputs": [],
   "source": [
    "# # add fastText vectors to df\n",
    "# df_new['ft_vector'] = df_new['comment_clean_preproc']\\\n",
    "#     .map(ft.get_sentence_vector)"
   ]
  },
  {
   "cell_type": "code",
   "execution_count": 35,
   "metadata": {},
   "outputs": [
    {
     "name": "stdout",
     "output_type": "stream",
     "text": [
      "<class 'pandas.core.frame.DataFrame'>\n",
      "RangeIndex: 398434 entries, 0 to 398433\n",
      "Data columns (total 6 columns):\n",
      " #   Column               Non-Null Count   Dtype \n",
      "---  ------               --------------   ----- \n",
      " 0   raw                  398434 non-null  object\n",
      " 1   clean                398434 non-null  object\n",
      " 2   clean_pp             398434 non-null  object\n",
      " 3   clean_pp_lemma       398434 non-null  object\n",
      " 4   clean_pp_lemma_stop  398434 non-null  object\n",
      " 5   toxic                398434 non-null  int64 \n",
      "dtypes: int64(1), object(5)\n",
      "memory usage: 18.2+ MB\n"
     ]
    }
   ],
   "source": [
    "df_new.info()"
   ]
  },
  {
   "cell_type": "markdown",
   "metadata": {},
   "source": [
    "## Save CSV file"
   ]
  },
  {
   "cell_type": "code",
   "execution_count": 36,
   "metadata": {},
   "outputs": [],
   "source": [
    "df_new.to_csv('data/data_usampl_60_40_cleaned.csv', index=False)"
   ]
  },
  {
   "cell_type": "code",
   "execution_count": 37,
   "metadata": {},
   "outputs": [
    {
     "data": {
      "text/html": [
       "<div>\n",
       "<style scoped>\n",
       "    .dataframe tbody tr th:only-of-type {\n",
       "        vertical-align: middle;\n",
       "    }\n",
       "\n",
       "    .dataframe tbody tr th {\n",
       "        vertical-align: top;\n",
       "    }\n",
       "\n",
       "    .dataframe thead th {\n",
       "        text-align: right;\n",
       "    }\n",
       "</style>\n",
       "<table border=\"1\" class=\"dataframe\">\n",
       "  <thead>\n",
       "    <tr style=\"text-align: right;\">\n",
       "      <th></th>\n",
       "      <th>raw</th>\n",
       "      <th>clean</th>\n",
       "      <th>clean_pp</th>\n",
       "      <th>clean_pp_lemma</th>\n",
       "      <th>clean_pp_lemma_stop</th>\n",
       "      <th>toxic</th>\n",
       "    </tr>\n",
       "  </thead>\n",
       "  <tbody>\n",
       "    <tr>\n",
       "      <th>0</th>\n",
       "      <td>Trudeau with a brain?  I assume you are taking about Pierre. Can't imagine anyone else.</td>\n",
       "      <td>Trudeau with a brain? I assume you are taking about Pierre. Can't imagine anyone else.</td>\n",
       "      <td>trudeau with a brain i assume you are taking about pierre ca n't imagine anyone else</td>\n",
       "      <td>trudeau with a brain i assume you be take about pierre can not imagine anyone else</td>\n",
       "      <td>trudeau brain assume take pierre imagine</td>\n",
       "      <td>1</td>\n",
       "    </tr>\n",
       "    <tr>\n",
       "      <th>1</th>\n",
       "      <td>The Jones Act was immediately lifted to help Texas and Florida.\\n\\nIt took the nation two weeks of shaming Trump before he acted to help Puerto Rico.\\n\\nHe spent that time making lame and nonsensical excuses for why he couldn't lift the ban.\\n\\nIn other news:\\n\\nTrump continues to shore up his racist base by dropping more racial dog whistles. Now he says NFL owners are 'afraid' of their black players.\\n\\nYep, the plantation is under threat by the uppitys all over again.  Trump is a racist.\\n\\nAnd a traitor.</td>\n",
       "      <td>The Jones Act was immediately lifted to help Texas and Florida. It took the nation two weeks of shaming Trump before he acted to help Puerto Rico. He spent that time making lame and nonsensical excuses for why he couldn't lift the ban. In other news: Trump continues to shore up his racist base by dropping more racial dog whistles. Now he says NFL owners are 'afraid' of their black players. Yep, the plantation is under threat by the uppitys all over again. Trump is a racist. And a traitor.</td>\n",
       "      <td>the jones act was immediately lifted to help texas and florida it took the nation two weeks of shaming trump before he acted to help puerto rico he spent that time making lame and nonsensical excuses for why he could n't lift the ban in other news trump continues to shore up his racist base by dropping more racial dog whistles now he says nfl owners are afraid of their black players yep the plantation is under threat by the uppitys all over again trump is a racist and a traitor</td>\n",
       "      <td>the jones act be immediately lift to help texas and florida it take the nation two week of shame trump before he act to help puerto rico he spend that time make lame and nonsensical excuse for why he could not lift the ban in other news trump continue to shore up his racist base by drop more racial dog whistle now he say nfl owner be afraid of their black player yep the plantation be under threat by the uppitys all over again trump be a racist and a traitor</td>\n",
       "      <td>jones act immediately lift help texas florida take nation week shame trump act help puerto rico spend time make lame nonsensical excuse lift ban news trump continue shore racist base drop racial dog whistle say nfl owner afraid black player yep plantation threat uppitys trump racist traitor</td>\n",
       "      <td>1</td>\n",
       "    </tr>\n",
       "    <tr>\n",
       "      <th>2</th>\n",
       "      <td>As long as the Church keeps preventing the Lord from calling women to the sacramental priesthood, there is a fundamental imbalance, driven by patriarchal gender ideology, that is harmful to the entire body of Christ, male and female.  The vocation crisis is not about women, just as it is not about men.  It is about letting go of a patriarchal culture that is passing away, and allowing the Lord to call those he wants here and now, men and women, to all vocations, including the sacramental priesthood and the episcopate, without imposing artificial gender walls that are heritage from the Old Law (not the New Law!) and no longer make sense.  The sacramental priesthood is about service, not genitals. Ordained priests do #2 sitting down.  Why in the world is it that they cannot do #1 sitting down as well?  Allow the Lord to call women to the ministerial priesthood, and the life of the Church will be much better!</td>\n",
       "      <td>As long as the Church keeps preventing the Lord from calling women to the sacramental priesthood, there is a fundamental imbalance, driven by patriarchal gender ideology, that is harmful to the entire body of Christ, male and female. The vocation crisis is not about women, just as it is not about men. It is about letting go of a patriarchal culture that is passing away, and allowing the Lord to call those he wants here and now, men and women, to all vocations, including the sacramental priesthood and the episcopate, without imposing artificial gender walls that are heritage from the Old Law (not the New Law!) and no longer make sense. The sacramental priesthood is about service, not genitals. Ordained priests do # sitting down. Why in the world is it that they cannot do # sitting down as well? Allow the Lord to call women to the ministerial priesthood, and the life of the Church will be much better!</td>\n",
       "      <td>as long as the church keeps preventing the lord from calling women to the sacramental priesthood there is a fundamental imbalance driven by patriarchal gender ideology that is harmful to the entire body of christ male and female the vocation crisis is not about women just as it is not about men it is about letting go of a patriarchal culture that is passing away and allowing the lord to call those he wants here and now men and women to all vocations including the sacramental priesthood and the episcopate without imposing artificial gender walls that are heritage from the old law not the new law and no longer make sense the sacramental priesthood is about service not genitals ordained priests do sitting down why in the world is it that they can not do sitting down as well allow the lord to call women to the ministerial priesthood and the life of the church will be much better</td>\n",
       "      <td>as long as the church keep prevent the lord from call woman to the sacramental priesthood there be a fundamental imbalance drive by patriarchal gender ideology that be harmful to the entire body of christ male and female the vocation crisis be not about woman just as it be not about man it be about let go of a patriarchal culture that be pass away and allow the lord to call those he want here and now man and woman to all vocation include the sacramental priesthood and the episcopate without impose artificial gender wall that be heritage from the old law not the new law and no long make sense the sacramental priesthood be about service not genital ordain priest do sit down why in the world be it that they can not do sit down as well allow the lord to call woman to the ministerial priesthood and the life of the church will be much well</td>\n",
       "      <td>long church keep prevent lord call woman sacramental priesthood fundamental imbalance drive patriarchal gender ideology harmful entire body christ male female vocation crisis woman man let patriarchal culture pass away allow lord want man woman vocation include sacramental priesthood episcopate impose artificial gender wall heritage old law new law long sense sacramental priesthood service genital ordain priest sit world sit allow lord woman ministerial priesthood life church well</td>\n",
       "      <td>0</td>\n",
       "    </tr>\n",
       "    <tr>\n",
       "      <th>3</th>\n",
       "      <td>Climate change, in the sense discussed in the Pope's encyclical, is a dubious theory at best. Also,  your claim that 95% of the \"scientific community\" supports the theory is  patently false. In any event for a pope to give his imprimatur to a scientific theory is unprecedented.   He has no competence in this area and should not \\nlend credibility to what is essentially a prudential matter.  \\n\\nThere is nothing wrong with Trump's approach to Russia, and there is no reason for the Catholic Church at this time and under current current circumstances to advise anyone, let alone the President on the matter. Again this is a prudential matter. \\n\\nRelations between nations have nothing to do with what a country has done in terms of \"Suppressing democracy\". What planet do you live on. \\n\\nAs for as poverty is concerned, the Pope should speak out against the corrupt governments that keep people in poverty and ignorance. Thinking that America can pay to save the world misses the point.</td>\n",
       "      <td>Climate change, in the sense discussed in the Pope's encyclical, is a dubious theory at best. Also, your claim that % of the \"scientific community\" supports the theory is patently false. In any event for a pope to give his imprimatur to a scientific theory is unprecedented. He has no competence in this area and should not lend credibility to what is essentially a prudential matter. There is nothing wrong with Trump's approach to Russia, and there is no reason for the Catholic Church at this time and under current current circumstances to advise anyone, let alone the President on the matter. Again this is a prudential matter. Relations between nations have nothing to do with what a country has done in terms of \"Suppressing democracy\". What planet do you live on. As for as poverty is concerned, the Pope should speak out against the corrupt governments that keep people in poverty and ignorance. Thinking that America can pay to save the world misses the point.</td>\n",
       "      <td>climate change in the sense discussed in the pope 's encyclical is a dubious theory at best also your claim that of the scientific community supports the theory is patently false in any event for a pope to give his imprimatur to a scientific theory is unprecedented he has no competence in this area and should not lend credibility to what is essentially a prudential matter there is nothing wrong with trump 's approach to russia and there is no reason for the catholic church at this time and under current current circumstances to advise anyone let alone the president on the matter again this is a prudential matter relations between nations have nothing to do with what a country has done in terms of suppressing democracy what planet do you live on as for as poverty is concerned the pope should speak out against the corrupt governments that keep people in poverty and ignorance thinking that america can pay to save the world misses the point</td>\n",
       "      <td>climate change in the sense discuss in the pope 's encyclical be a dubious theory at well also your claim that of the scientific community support the theory be patently false in any event for a pope to give his imprimatur to a scientific theory be unprecedented he have no competence in this area and should not lend credibility to what be essentially a prudential matter there be nothing wrong with trump 's approach to russia and there be no reason for the catholic church at this time and under current current circumstance to advise anyone let alone the president on the matter again this be a prudential matter relation between nation have nothing to do with what a country have do in term of suppress democracy what planet do you live on as for as poverty be concern the pope should speak out against the corrupt government that keep people in poverty and ignorance think that america can pay to save the world miss the point</td>\n",
       "      <td>climate change sense discuss pope encyclical dubious theory well claim scientific community support theory patently false event pope imprimatur scientific theory unprecedented competence area lend credibility essentially prudential matter wrong trump approach russia reason catholic church time current current circumstance advise let president matter prudential matter relation nation country term suppress democracy planet live poverty concern pope speak corrupt government people poverty ignorance think america pay save world miss point</td>\n",
       "      <td>0</td>\n",
       "    </tr>\n",
       "    <tr>\n",
       "      <th>4</th>\n",
       "      <td>Fake news...now she is lying. figures....she is making her millions and gosh darn, her detractors don't scare her, so there!!! She needs to shut up, herself.</td>\n",
       "      <td>Fake news...now she is lying. figures....she is making her millions and gosh darn, her detractors don't scare her, so there!!! She needs to shut up, herself.</td>\n",
       "      <td>fake news now she is lying figures she is making her millions and gosh darn her detractors do n't scare her so there she needs to shut up herself</td>\n",
       "      <td>fake news now she be lie figure she be make her million and gosh darn her detractor do not scare she so there she need to shut up herself</td>\n",
       "      <td>fake news lie figure make million gosh darn detractor scare need shut</td>\n",
       "      <td>1</td>\n",
       "    </tr>\n",
       "  </tbody>\n",
       "</table>\n",
       "</div>"
      ],
      "text/plain": [
       "                                                                                                                                                                                                                                                                                                                                                                                                                                                                                                                                                                                                                                                                                                                                                                                                                                                                                                                                                                                                                               raw  \\\n",
       "0                                                                                                                                                                                                                                                                                                                                                                                                                                                                                                                                                                                                                                                                                                                                                                                                                                                                                                                                          Trudeau with a brain?  I assume you are taking about Pierre. Can't imagine anyone else.   \n",
       "1                                                                                                                                                                                                                                                                                                                                                                                                                                                                                                 The Jones Act was immediately lifted to help Texas and Florida.\\n\\nIt took the nation two weeks of shaming Trump before he acted to help Puerto Rico.\\n\\nHe spent that time making lame and nonsensical excuses for why he couldn't lift the ban.\\n\\nIn other news:\\n\\nTrump continues to shore up his racist base by dropping more racial dog whistles. Now he says NFL owners are 'afraid' of their black players.\\n\\nYep, the plantation is under threat by the uppitys all over again.  Trump is a racist.\\n\\nAnd a traitor.   \n",
       "2                                                                          As long as the Church keeps preventing the Lord from calling women to the sacramental priesthood, there is a fundamental imbalance, driven by patriarchal gender ideology, that is harmful to the entire body of Christ, male and female.  The vocation crisis is not about women, just as it is not about men.  It is about letting go of a patriarchal culture that is passing away, and allowing the Lord to call those he wants here and now, men and women, to all vocations, including the sacramental priesthood and the episcopate, without imposing artificial gender walls that are heritage from the Old Law (not the New Law!) and no longer make sense.  The sacramental priesthood is about service, not genitals. Ordained priests do #2 sitting down.  Why in the world is it that they cannot do #1 sitting down as well?  Allow the Lord to call women to the ministerial priesthood, and the life of the Church will be much better!   \n",
       "3  Climate change, in the sense discussed in the Pope's encyclical, is a dubious theory at best. Also,  your claim that 95% of the \"scientific community\" supports the theory is  patently false. In any event for a pope to give his imprimatur to a scientific theory is unprecedented.   He has no competence in this area and should not \\nlend credibility to what is essentially a prudential matter.  \\n\\nThere is nothing wrong with Trump's approach to Russia, and there is no reason for the Catholic Church at this time and under current current circumstances to advise anyone, let alone the President on the matter. Again this is a prudential matter. \\n\\nRelations between nations have nothing to do with what a country has done in terms of \"Suppressing democracy\". What planet do you live on. \\n\\nAs for as poverty is concerned, the Pope should speak out against the corrupt governments that keep people in poverty and ignorance. Thinking that America can pay to save the world misses the point.   \n",
       "4                                                                                                                                                                                                                                                                                                                                                                                                                                                                                                                                                                                                                                                                                                                                                                                                                                                                    Fake news...now she is lying. figures....she is making her millions and gosh darn, her detractors don't scare her, so there!!! She needs to shut up, herself.   \n",
       "\n",
       "                                                                                                                                                                                                                                                                                                                                                                                                                                                                                                                                                                                                                                                                                                                                                                                                                                                                                                                                                                                                        clean  \\\n",
       "0                                                                                                                                                                                                                                                                                                                                                                                                                                                                                                                                                                                                                                                                                                                                                                                                                                                                                                                      Trudeau with a brain? I assume you are taking about Pierre. Can't imagine anyone else.   \n",
       "1                                                                                                                                                                                                                                                                                                                                                                                                                                                                                               The Jones Act was immediately lifted to help Texas and Florida. It took the nation two weeks of shaming Trump before he acted to help Puerto Rico. He spent that time making lame and nonsensical excuses for why he couldn't lift the ban. In other news: Trump continues to shore up his racist base by dropping more racial dog whistles. Now he says NFL owners are 'afraid' of their black players. Yep, the plantation is under threat by the uppitys all over again. Trump is a racist. And a traitor.   \n",
       "2                                                            As long as the Church keeps preventing the Lord from calling women to the sacramental priesthood, there is a fundamental imbalance, driven by patriarchal gender ideology, that is harmful to the entire body of Christ, male and female. The vocation crisis is not about women, just as it is not about men. It is about letting go of a patriarchal culture that is passing away, and allowing the Lord to call those he wants here and now, men and women, to all vocations, including the sacramental priesthood and the episcopate, without imposing artificial gender walls that are heritage from the Old Law (not the New Law!) and no longer make sense. The sacramental priesthood is about service, not genitals. Ordained priests do # sitting down. Why in the world is it that they cannot do # sitting down as well? Allow the Lord to call women to the ministerial priesthood, and the life of the Church will be much better!   \n",
       "3  Climate change, in the sense discussed in the Pope's encyclical, is a dubious theory at best. Also, your claim that % of the \"scientific community\" supports the theory is patently false. In any event for a pope to give his imprimatur to a scientific theory is unprecedented. He has no competence in this area and should not lend credibility to what is essentially a prudential matter. There is nothing wrong with Trump's approach to Russia, and there is no reason for the Catholic Church at this time and under current current circumstances to advise anyone, let alone the President on the matter. Again this is a prudential matter. Relations between nations have nothing to do with what a country has done in terms of \"Suppressing democracy\". What planet do you live on. As for as poverty is concerned, the Pope should speak out against the corrupt governments that keep people in poverty and ignorance. Thinking that America can pay to save the world misses the point.   \n",
       "4                                                                                                                                                                                                                                                                                                                                                                                                                                                                                                                                                                                                                                                                                                                                                                                                                                               Fake news...now she is lying. figures....she is making her millions and gosh darn, her detractors don't scare her, so there!!! She needs to shut up, herself.   \n",
       "\n",
       "                                                                                                                                                                                                                                                                                                                                                                                                                                                                                                                                                                                                                                                                                                                                                                                                                                                                                                                                                                                 clean_pp  \\\n",
       "0                                                                                                                                                                                                                                                                                                                                                                                                                                                                                                                                                                                                                                                                                                                                                                                                                                                                                                    trudeau with a brain i assume you are taking about pierre ca n't imagine anyone else   \n",
       "1                                                                                                                                                                                                                                                                                                                                                                                                                                                                                      the jones act was immediately lifted to help texas and florida it took the nation two weeks of shaming trump before he acted to help puerto rico he spent that time making lame and nonsensical excuses for why he could n't lift the ban in other news trump continues to shore up his racist base by dropping more racial dog whistles now he says nfl owners are afraid of their black players yep the plantation is under threat by the uppitys all over again trump is a racist and a traitor   \n",
       "2                                                                 as long as the church keeps preventing the lord from calling women to the sacramental priesthood there is a fundamental imbalance driven by patriarchal gender ideology that is harmful to the entire body of christ male and female the vocation crisis is not about women just as it is not about men it is about letting go of a patriarchal culture that is passing away and allowing the lord to call those he wants here and now men and women to all vocations including the sacramental priesthood and the episcopate without imposing artificial gender walls that are heritage from the old law not the new law and no longer make sense the sacramental priesthood is about service not genitals ordained priests do sitting down why in the world is it that they can not do sitting down as well allow the lord to call women to the ministerial priesthood and the life of the church will be much better   \n",
       "3  climate change in the sense discussed in the pope 's encyclical is a dubious theory at best also your claim that of the scientific community supports the theory is patently false in any event for a pope to give his imprimatur to a scientific theory is unprecedented he has no competence in this area and should not lend credibility to what is essentially a prudential matter there is nothing wrong with trump 's approach to russia and there is no reason for the catholic church at this time and under current current circumstances to advise anyone let alone the president on the matter again this is a prudential matter relations between nations have nothing to do with what a country has done in terms of suppressing democracy what planet do you live on as for as poverty is concerned the pope should speak out against the corrupt governments that keep people in poverty and ignorance thinking that america can pay to save the world misses the point   \n",
       "4                                                                                                                                                                                                                                                                                                                                                                                                                                                                                                                                                                                                                                                                                                                                                                                                                                       fake news now she is lying figures she is making her millions and gosh darn her detractors do n't scare her so there she needs to shut up herself   \n",
       "\n",
       "                                                                                                                                                                                                                                                                                                                                                                                                                                                                                                                                                                                                                                                                                                                                                                                                                                                                                                                                                         clean_pp_lemma  \\\n",
       "0                                                                                                                                                                                                                                                                                                                                                                                                                                                                                                                                                                                                                                                                                                                                                                                                                                                                                    trudeau with a brain i assume you be take about pierre can not imagine anyone else   \n",
       "1                                                                                                                                                                                                                                                                                                                                                                                                                                                                                         the jones act be immediately lift to help texas and florida it take the nation two week of shame trump before he act to help puerto rico he spend that time make lame and nonsensical excuse for why he could not lift the ban in other news trump continue to shore up his racist base by drop more racial dog whistle now he say nfl owner be afraid of their black player yep the plantation be under threat by the uppitys all over again trump be a racist and a traitor   \n",
       "2                                                                                         as long as the church keep prevent the lord from call woman to the sacramental priesthood there be a fundamental imbalance drive by patriarchal gender ideology that be harmful to the entire body of christ male and female the vocation crisis be not about woman just as it be not about man it be about let go of a patriarchal culture that be pass away and allow the lord to call those he want here and now man and woman to all vocation include the sacramental priesthood and the episcopate without impose artificial gender wall that be heritage from the old law not the new law and no long make sense the sacramental priesthood be about service not genital ordain priest do sit down why in the world be it that they can not do sit down as well allow the lord to call woman to the ministerial priesthood and the life of the church will be much well   \n",
       "3  climate change in the sense discuss in the pope 's encyclical be a dubious theory at well also your claim that of the scientific community support the theory be patently false in any event for a pope to give his imprimatur to a scientific theory be unprecedented he have no competence in this area and should not lend credibility to what be essentially a prudential matter there be nothing wrong with trump 's approach to russia and there be no reason for the catholic church at this time and under current current circumstance to advise anyone let alone the president on the matter again this be a prudential matter relation between nation have nothing to do with what a country have do in term of suppress democracy what planet do you live on as for as poverty be concern the pope should speak out against the corrupt government that keep people in poverty and ignorance think that america can pay to save the world miss the point   \n",
       "4                                                                                                                                                                                                                                                                                                                                                                                                                                                                                                                                                                                                                                                                                                                                                                                                                             fake news now she be lie figure she be make her million and gosh darn her detractor do not scare she so there she need to shut up herself   \n",
       "\n",
       "                                                                                                                                                                                                                                                                                                                                                                                                                                                                                                                                            clean_pp_lemma_stop  \\\n",
       "0                                                                                                                                                                                                                                                                                                                                                                                                                                                                                                                      trudeau brain assume take pierre imagine   \n",
       "1                                                                                                                                                                                                                                                           jones act immediately lift help texas florida take nation week shame trump act help puerto rico spend time make lame nonsensical excuse lift ban news trump continue shore racist base drop racial dog whistle say nfl owner afraid black player yep plantation threat uppitys trump racist traitor   \n",
       "2                                                         long church keep prevent lord call woman sacramental priesthood fundamental imbalance drive patriarchal gender ideology harmful entire body christ male female vocation crisis woman man let patriarchal culture pass away allow lord want man woman vocation include sacramental priesthood episcopate impose artificial gender wall heritage old law new law long sense sacramental priesthood service genital ordain priest sit world sit allow lord woman ministerial priesthood life church well   \n",
       "3  climate change sense discuss pope encyclical dubious theory well claim scientific community support theory patently false event pope imprimatur scientific theory unprecedented competence area lend credibility essentially prudential matter wrong trump approach russia reason catholic church time current current circumstance advise let president matter prudential matter relation nation country term suppress democracy planet live poverty concern pope speak corrupt government people poverty ignorance think america pay save world miss point   \n",
       "4                                                                                                                                                                                                                                                                                                                                                                                                                                                                                         fake news lie figure make million gosh darn detractor scare need shut   \n",
       "\n",
       "   toxic  \n",
       "0      1  \n",
       "1      1  \n",
       "2      0  \n",
       "3      0  \n",
       "4      1  "
      ]
     },
     "execution_count": 37,
     "metadata": {},
     "output_type": "execute_result"
    }
   ],
   "source": [
    "df_check = pd.read_csv('data/data_usampl_60_40_cleaned.csv')\n",
    "df_check.head()"
   ]
  },
  {
   "cell_type": "code",
   "execution_count": 38,
   "metadata": {},
   "outputs": [
    {
     "data": {
      "text/plain": [
       "raw                    0\n",
       "clean                  0\n",
       "clean_pp               0\n",
       "clean_pp_lemma         0\n",
       "clean_pp_lemma_stop    0\n",
       "toxic                  0\n",
       "dtype: int64"
      ]
     },
     "execution_count": 38,
     "metadata": {},
     "output_type": "execute_result"
    }
   ],
   "source": [
    "df_check.isna().sum()"
   ]
  },
  {
   "cell_type": "code",
   "execution_count": null,
   "metadata": {},
   "outputs": [],
   "source": []
  }
 ],
 "metadata": {
  "colab": {
   "provenance": []
  },
  "kernelspec": {
   "display_name": "Python 3 (ipykernel)",
   "language": "python",
   "name": "python3"
  },
  "language_info": {
   "codemirror_mode": {
    "name": "ipython",
    "version": 3
   },
   "file_extension": ".py",
   "mimetype": "text/x-python",
   "name": "python",
   "nbconvert_exporter": "python",
   "pygments_lexer": "ipython3",
   "version": "3.11.5"
  }
 },
 "nbformat": 4,
 "nbformat_minor": 4
}
