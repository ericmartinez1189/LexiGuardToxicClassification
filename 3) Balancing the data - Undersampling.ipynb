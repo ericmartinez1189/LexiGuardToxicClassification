{
 "cells": [
  {
   "cell_type": "markdown",
   "metadata": {},
   "source": [
    "# Balancing data"
   ]
  },
  {
   "cell_type": "markdown",
   "metadata": {},
   "source": [
    "## Import"
   ]
  },
  {
   "cell_type": "code",
   "execution_count": 1,
   "metadata": {},
   "outputs": [],
   "source": [
    "import pandas as pd\n",
    "import numpy as np"
   ]
  },
  {
   "cell_type": "markdown",
   "metadata": {},
   "source": [
    "## Load and clean Data"
   ]
  },
  {
   "cell_type": "code",
   "execution_count": 2,
   "metadata": {},
   "outputs": [],
   "source": [
    "# Read all data\n",
    "data = pd.read_csv('data/all_data.csv')"
   ]
  },
  {
   "cell_type": "code",
   "execution_count": 3,
   "metadata": {},
   "outputs": [],
   "source": [
    "# Drop columns\n",
    "data.drop(['id', 'split', 'created_date', 'publication_id',\n",
    "       'parent_id', 'article_id', 'rating', 'funny', 'wow', 'sad', 'likes',\n",
    "       'disagree', 'severe_toxicity', 'obscene', 'sexual_explicit',\n",
    "       'identity_attack', 'insult', 'threat', 'male', 'female', 'transgender',\n",
    "       'other_gender', 'heterosexual', 'homosexual_gay_or_lesbian', 'bisexual',\n",
    "       'other_sexual_orientation', 'christian', 'jewish', 'muslim', 'hindu',\n",
    "       'buddhist', 'atheist', 'other_religion', 'black', 'white', 'asian',\n",
    "       'latino', 'other_race_or_ethnicity', 'physical_disability',\n",
    "       'intellectual_or_learning_disability', 'psychiatric_or_mental_illness',\n",
    "       'other_disability', 'identity_annotator_count',\n",
    "       'toxicity_annotator_count'], axis=1, inplace=True)"
   ]
  },
  {
   "cell_type": "code",
   "execution_count": 4,
   "metadata": {},
   "outputs": [],
   "source": [
    "# Drop rows with null values\n",
    "df_cleaned = data.dropna(subset=['comment_text'])\n",
    "\n",
    "# Add new column toxic, toxicity >= 0.5 then toxic = 1 otherwise toxic = 0\n",
    "df_train = df_cleaned.copy()\n",
    "df_train['toxic'] = np.where(df_train['toxicity'] >= 0.50, 1, 0)"
   ]
  },
  {
   "cell_type": "markdown",
   "metadata": {},
   "source": [
    "## Showing Unbalanced data"
   ]
  },
  {
   "cell_type": "code",
   "execution_count": 5,
   "metadata": {},
   "outputs": [
    {
     "name": "stdout",
     "output_type": "stream",
     "text": [
      "         Count Percentage\n",
      "toxic                    \n",
      "0      1839730     92.01%\n",
      "1       159782      7.99%\n"
     ]
    }
   ],
   "source": [
    "# Show Unbalanced Data\n",
    "# Get counts and percentages\n",
    "counts = df_train['toxic'].value_counts()\n",
    "percentages = df_train['toxic'].value_counts(normalize=True) * 100\n",
    "# Display counts and percentages\n",
    "result_df = pd.DataFrame({'Count': counts, 'Percentage': percentages})\n",
    "result_df['Percentage'] = result_df['Percentage'].map('{:.2f}%'.format)\n",
    "print(result_df)"
   ]
  },
  {
   "cell_type": "markdown",
   "metadata": {},
   "source": [
    "## Under Sampling"
   ]
  },
  {
   "cell_type": "code",
   "execution_count": 6,
   "metadata": {},
   "outputs": [],
   "source": [
    "# Calculate the undersample size for class 0\n",
    "undersample_size_0 = int(df_train['toxic'].value_counts()[1] / 0.4 * 0.6)\n",
    "\n",
    "# Undersample class 0 and keep all samples from class 1\n",
    "undersampled_data = pd.concat([\n",
    "    df_train[df_train['toxic'] == 0].sample(n=undersample_size_0, random_state=42),\n",
    "    df_train[df_train['toxic'] == 1]],\n",
    "    ignore_index=True)\n",
    "\n",
    "# Shuffle the undersampled data\n",
    "undersampled_data = undersampled_data.sample(frac=1, random_state=42)\n"
   ]
  },
  {
   "cell_type": "code",
   "execution_count": 7,
   "metadata": {},
   "outputs": [
    {
     "name": "stdout",
     "output_type": "stream",
     "text": [
      "        Count Percentage\n",
      "toxic                   \n",
      "0      239673     60.00%\n",
      "1      159782     40.00%\n"
     ]
    }
   ],
   "source": [
    "# Get counts and percentages\n",
    "counts = undersampled_data['toxic'].value_counts()\n",
    "percentages = undersampled_data['toxic'].value_counts(normalize=True) * 100\n",
    "# Display counts and percentages\n",
    "result_df = pd.DataFrame({'Count': counts, 'Percentage': percentages})\n",
    "result_df['Percentage'] = result_df['Percentage'].map('{:.2f}%'.format)\n",
    "print(result_df)"
   ]
  },
  {
   "cell_type": "code",
   "execution_count": 8,
   "metadata": {},
   "outputs": [],
   "source": [
    "#Save the Undersampled Data to a CSV File:\n",
    "undersampled_data.to_csv('data/undersampled_data_60_40.csv', index=False)"
   ]
  }
 ],
 "metadata": {
  "kernelspec": {
   "display_name": "Python 3 (ipykernel)",
   "language": "python",
   "name": "python3"
  },
  "language_info": {
   "codemirror_mode": {
    "name": "ipython",
    "version": 3
   },
   "file_extension": ".py",
   "mimetype": "text/x-python",
   "name": "python",
   "nbconvert_exporter": "python",
   "pygments_lexer": "ipython3",
   "version": "3.10.13"
  }
 },
 "nbformat": 4,
 "nbformat_minor": 4
}
