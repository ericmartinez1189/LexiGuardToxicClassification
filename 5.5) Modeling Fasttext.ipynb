{
 "cells": [
  {
   "cell_type": "markdown",
   "metadata": {
    "editable": true,
    "slideshow": {
     "slide_type": ""
    },
    "tags": []
   },
   "source": [
    "## Set up"
   ]
  },
  {
   "cell_type": "code",
   "execution_count": 2,
   "metadata": {},
   "outputs": [],
   "source": [
    "import pandas as pd\n",
    "from tqdm import tqdm\n",
    "from sklearn.model_selection import train_test_split\n",
    "import fasttext\n",
    "import numpy as np\n",
    "from sklearn.model_selection import train_test_split\n",
    "from imblearn.over_sampling import SMOTE\n",
    "from sklearn.linear_model import LogisticRegression\n",
    "from sklearn.metrics import classification_report, confusion_matrix\n",
    "import matplotlib.pyplot as plt\n",
    "import seaborn as sns\n"
   ]
  },
  {
   "cell_type": "markdown",
   "metadata": {},
   "source": [
    "## Get data"
   ]
  },
  {
   "cell_type": "code",
   "execution_count": 3,
   "metadata": {},
   "outputs": [],
   "source": [
    "df = pd.read_csv('data/data_usampl_60_40_cleaned.csv')"
   ]
  },
  {
   "cell_type": "code",
   "execution_count": 4,
   "metadata": {},
   "outputs": [
    {
     "data": {
      "text/html": [
       "<div>\n",
       "<style scoped>\n",
       "    .dataframe tbody tr th:only-of-type {\n",
       "        vertical-align: middle;\n",
       "    }\n",
       "\n",
       "    .dataframe tbody tr th {\n",
       "        vertical-align: top;\n",
       "    }\n",
       "\n",
       "    .dataframe thead th {\n",
       "        text-align: right;\n",
       "    }\n",
       "</style>\n",
       "<table border=\"1\" class=\"dataframe\">\n",
       "  <thead>\n",
       "    <tr style=\"text-align: right;\">\n",
       "      <th></th>\n",
       "      <th>raw</th>\n",
       "      <th>clean</th>\n",
       "      <th>clean_pp</th>\n",
       "      <th>clean_pp_lemma</th>\n",
       "      <th>clean_pp_lemma_stop</th>\n",
       "      <th>toxic</th>\n",
       "    </tr>\n",
       "  </thead>\n",
       "  <tbody>\n",
       "    <tr>\n",
       "      <th>0</th>\n",
       "      <td>Trudeau with a brain?  I assume you are taking...</td>\n",
       "      <td>Trudeau with a brain? I assume you are taking ...</td>\n",
       "      <td>trudeau with a brain i assume you are taking a...</td>\n",
       "      <td>trudeau with a brain i assume you be take abou...</td>\n",
       "      <td>trudeau brain assume take pierre imagine</td>\n",
       "      <td>1</td>\n",
       "    </tr>\n",
       "    <tr>\n",
       "      <th>1</th>\n",
       "      <td>The Jones Act was immediately lifted to help T...</td>\n",
       "      <td>The Jones Act was immediately lifted to help T...</td>\n",
       "      <td>the jones act was immediately lifted to help t...</td>\n",
       "      <td>the jones act be immediately lift to help texa...</td>\n",
       "      <td>jones act immediately lift help texas florida ...</td>\n",
       "      <td>1</td>\n",
       "    </tr>\n",
       "    <tr>\n",
       "      <th>2</th>\n",
       "      <td>As long as the Church keeps preventing the Lor...</td>\n",
       "      <td>As long as the Church keeps preventing the Lor...</td>\n",
       "      <td>as long as the church keeps preventing the lor...</td>\n",
       "      <td>as long as the church keep prevent the lord fr...</td>\n",
       "      <td>long church keep prevent lord call woman sacra...</td>\n",
       "      <td>0</td>\n",
       "    </tr>\n",
       "    <tr>\n",
       "      <th>3</th>\n",
       "      <td>Climate change, in the sense discussed in the ...</td>\n",
       "      <td>Climate change, in the sense discussed in the ...</td>\n",
       "      <td>climate change in the sense discussed in the p...</td>\n",
       "      <td>climate change in the sense discuss in the pop...</td>\n",
       "      <td>climate change sense discuss pope encyclical d...</td>\n",
       "      <td>0</td>\n",
       "    </tr>\n",
       "    <tr>\n",
       "      <th>4</th>\n",
       "      <td>Fake news...now she is lying. figures....she i...</td>\n",
       "      <td>Fake news...now she is lying. figures....she i...</td>\n",
       "      <td>fake news now she is lying figures she is maki...</td>\n",
       "      <td>fake news now she be lie figure she be make he...</td>\n",
       "      <td>fake news lie figure make million gosh darn de...</td>\n",
       "      <td>1</td>\n",
       "    </tr>\n",
       "  </tbody>\n",
       "</table>\n",
       "</div>"
      ],
      "text/plain": [
       "                                                 raw  \\\n",
       "0  Trudeau with a brain?  I assume you are taking...   \n",
       "1  The Jones Act was immediately lifted to help T...   \n",
       "2  As long as the Church keeps preventing the Lor...   \n",
       "3  Climate change, in the sense discussed in the ...   \n",
       "4  Fake news...now she is lying. figures....she i...   \n",
       "\n",
       "                                               clean  \\\n",
       "0  Trudeau with a brain? I assume you are taking ...   \n",
       "1  The Jones Act was immediately lifted to help T...   \n",
       "2  As long as the Church keeps preventing the Lor...   \n",
       "3  Climate change, in the sense discussed in the ...   \n",
       "4  Fake news...now she is lying. figures....she i...   \n",
       "\n",
       "                                            clean_pp  \\\n",
       "0  trudeau with a brain i assume you are taking a...   \n",
       "1  the jones act was immediately lifted to help t...   \n",
       "2  as long as the church keeps preventing the lor...   \n",
       "3  climate change in the sense discussed in the p...   \n",
       "4  fake news now she is lying figures she is maki...   \n",
       "\n",
       "                                      clean_pp_lemma  \\\n",
       "0  trudeau with a brain i assume you be take abou...   \n",
       "1  the jones act be immediately lift to help texa...   \n",
       "2  as long as the church keep prevent the lord fr...   \n",
       "3  climate change in the sense discuss in the pop...   \n",
       "4  fake news now she be lie figure she be make he...   \n",
       "\n",
       "                                 clean_pp_lemma_stop  toxic  \n",
       "0           trudeau brain assume take pierre imagine      1  \n",
       "1  jones act immediately lift help texas florida ...      1  \n",
       "2  long church keep prevent lord call woman sacra...      0  \n",
       "3  climate change sense discuss pope encyclical d...      0  \n",
       "4  fake news lie figure make million gosh darn de...      1  "
      ]
     },
     "execution_count": 4,
     "metadata": {},
     "output_type": "execute_result"
    }
   ],
   "source": [
    "df.head()"
   ]
  },
  {
   "cell_type": "code",
   "execution_count": 5,
   "metadata": {},
   "outputs": [],
   "source": [
    "X = df['clean_pp_lemma']\n",
    "y = df['toxic']"
   ]
  },
  {
   "cell_type": "markdown",
   "metadata": {},
   "source": [
    "### Create labels fasttext as per convention"
   ]
  },
  {
   "cell_type": "code",
   "execution_count": 6,
   "metadata": {},
   "outputs": [
    {
     "data": {
      "text/html": [
       "<div>\n",
       "<style scoped>\n",
       "    .dataframe tbody tr th:only-of-type {\n",
       "        vertical-align: middle;\n",
       "    }\n",
       "\n",
       "    .dataframe tbody tr th {\n",
       "        vertical-align: top;\n",
       "    }\n",
       "\n",
       "    .dataframe thead th {\n",
       "        text-align: right;\n",
       "    }\n",
       "</style>\n",
       "<table border=\"1\" class=\"dataframe\">\n",
       "  <thead>\n",
       "    <tr style=\"text-align: right;\">\n",
       "      <th></th>\n",
       "      <th>raw</th>\n",
       "      <th>clean</th>\n",
       "      <th>clean_pp</th>\n",
       "      <th>clean_pp_lemma</th>\n",
       "      <th>clean_pp_lemma_stop</th>\n",
       "      <th>toxic</th>\n",
       "      <th>toxic_label_ft</th>\n",
       "    </tr>\n",
       "  </thead>\n",
       "  <tbody>\n",
       "    <tr>\n",
       "      <th>0</th>\n",
       "      <td>Trudeau with a brain?  I assume you are taking...</td>\n",
       "      <td>Trudeau with a brain? I assume you are taking ...</td>\n",
       "      <td>trudeau with a brain i assume you are taking a...</td>\n",
       "      <td>trudeau with a brain i assume you be take abou...</td>\n",
       "      <td>trudeau brain assume take pierre imagine</td>\n",
       "      <td>1</td>\n",
       "      <td>__label__1</td>\n",
       "    </tr>\n",
       "    <tr>\n",
       "      <th>1</th>\n",
       "      <td>The Jones Act was immediately lifted to help T...</td>\n",
       "      <td>The Jones Act was immediately lifted to help T...</td>\n",
       "      <td>the jones act was immediately lifted to help t...</td>\n",
       "      <td>the jones act be immediately lift to help texa...</td>\n",
       "      <td>jones act immediately lift help texas florida ...</td>\n",
       "      <td>1</td>\n",
       "      <td>__label__1</td>\n",
       "    </tr>\n",
       "    <tr>\n",
       "      <th>2</th>\n",
       "      <td>As long as the Church keeps preventing the Lor...</td>\n",
       "      <td>As long as the Church keeps preventing the Lor...</td>\n",
       "      <td>as long as the church keeps preventing the lor...</td>\n",
       "      <td>as long as the church keep prevent the lord fr...</td>\n",
       "      <td>long church keep prevent lord call woman sacra...</td>\n",
       "      <td>0</td>\n",
       "      <td>__label__0</td>\n",
       "    </tr>\n",
       "  </tbody>\n",
       "</table>\n",
       "</div>"
      ],
      "text/plain": [
       "                                                 raw  \\\n",
       "0  Trudeau with a brain?  I assume you are taking...   \n",
       "1  The Jones Act was immediately lifted to help T...   \n",
       "2  As long as the Church keeps preventing the Lor...   \n",
       "\n",
       "                                               clean  \\\n",
       "0  Trudeau with a brain? I assume you are taking ...   \n",
       "1  The Jones Act was immediately lifted to help T...   \n",
       "2  As long as the Church keeps preventing the Lor...   \n",
       "\n",
       "                                            clean_pp  \\\n",
       "0  trudeau with a brain i assume you are taking a...   \n",
       "1  the jones act was immediately lifted to help t...   \n",
       "2  as long as the church keeps preventing the lor...   \n",
       "\n",
       "                                      clean_pp_lemma  \\\n",
       "0  trudeau with a brain i assume you be take abou...   \n",
       "1  the jones act be immediately lift to help texa...   \n",
       "2  as long as the church keep prevent the lord fr...   \n",
       "\n",
       "                                 clean_pp_lemma_stop  toxic toxic_label_ft  \n",
       "0           trudeau brain assume take pierre imagine      1     __label__1  \n",
       "1  jones act immediately lift help texas florida ...      1     __label__1  \n",
       "2  long church keep prevent lord call woman sacra...      0     __label__0  "
      ]
     },
     "execution_count": 6,
     "metadata": {},
     "output_type": "execute_result"
    }
   ],
   "source": [
    "df['toxic_label_ft'] = \"__label__\" + df['toxic'].astype(str)\n",
    "df.head(3)"
   ]
  },
  {
   "cell_type": "code",
   "execution_count": 8,
   "metadata": {},
   "outputs": [
    {
     "data": {
      "text/html": [
       "<div>\n",
       "<style scoped>\n",
       "    .dataframe tbody tr th:only-of-type {\n",
       "        vertical-align: middle;\n",
       "    }\n",
       "\n",
       "    .dataframe tbody tr th {\n",
       "        vertical-align: top;\n",
       "    }\n",
       "\n",
       "    .dataframe thead th {\n",
       "        text-align: right;\n",
       "    }\n",
       "</style>\n",
       "<table border=\"1\" class=\"dataframe\">\n",
       "  <thead>\n",
       "    <tr style=\"text-align: right;\">\n",
       "      <th></th>\n",
       "      <th>raw</th>\n",
       "      <th>clean</th>\n",
       "      <th>clean_pp</th>\n",
       "      <th>clean_pp_lemma</th>\n",
       "      <th>clean_pp_lemma_stop</th>\n",
       "      <th>toxic</th>\n",
       "      <th>toxic_label_ft</th>\n",
       "      <th>toxic_label_comment_text</th>\n",
       "    </tr>\n",
       "  </thead>\n",
       "  <tbody>\n",
       "    <tr>\n",
       "      <th>0</th>\n",
       "      <td>Trudeau with a brain?  I assume you are taking...</td>\n",
       "      <td>Trudeau with a brain? I assume you are taking ...</td>\n",
       "      <td>trudeau with a brain i assume you are taking a...</td>\n",
       "      <td>trudeau with a brain i assume you be take abou...</td>\n",
       "      <td>trudeau brain assume take pierre imagine</td>\n",
       "      <td>1</td>\n",
       "      <td>__label__1</td>\n",
       "      <td>__label__1 trudeau with a brain i assume you b...</td>\n",
       "    </tr>\n",
       "    <tr>\n",
       "      <th>1</th>\n",
       "      <td>The Jones Act was immediately lifted to help T...</td>\n",
       "      <td>The Jones Act was immediately lifted to help T...</td>\n",
       "      <td>the jones act was immediately lifted to help t...</td>\n",
       "      <td>the jones act be immediately lift to help texa...</td>\n",
       "      <td>jones act immediately lift help texas florida ...</td>\n",
       "      <td>1</td>\n",
       "      <td>__label__1</td>\n",
       "      <td>__label__1 the jones act be immediately lift t...</td>\n",
       "    </tr>\n",
       "    <tr>\n",
       "      <th>2</th>\n",
       "      <td>As long as the Church keeps preventing the Lor...</td>\n",
       "      <td>As long as the Church keeps preventing the Lor...</td>\n",
       "      <td>as long as the church keeps preventing the lor...</td>\n",
       "      <td>as long as the church keep prevent the lord fr...</td>\n",
       "      <td>long church keep prevent lord call woman sacra...</td>\n",
       "      <td>0</td>\n",
       "      <td>__label__0</td>\n",
       "      <td>__label__0 as long as the church keep prevent ...</td>\n",
       "    </tr>\n",
       "  </tbody>\n",
       "</table>\n",
       "</div>"
      ],
      "text/plain": [
       "                                                 raw  \\\n",
       "0  Trudeau with a brain?  I assume you are taking...   \n",
       "1  The Jones Act was immediately lifted to help T...   \n",
       "2  As long as the Church keeps preventing the Lor...   \n",
       "\n",
       "                                               clean  \\\n",
       "0  Trudeau with a brain? I assume you are taking ...   \n",
       "1  The Jones Act was immediately lifted to help T...   \n",
       "2  As long as the Church keeps preventing the Lor...   \n",
       "\n",
       "                                            clean_pp  \\\n",
       "0  trudeau with a brain i assume you are taking a...   \n",
       "1  the jones act was immediately lifted to help t...   \n",
       "2  as long as the church keeps preventing the lor...   \n",
       "\n",
       "                                      clean_pp_lemma  \\\n",
       "0  trudeau with a brain i assume you be take abou...   \n",
       "1  the jones act be immediately lift to help texa...   \n",
       "2  as long as the church keep prevent the lord fr...   \n",
       "\n",
       "                                 clean_pp_lemma_stop  toxic toxic_label_ft  \\\n",
       "0           trudeau brain assume take pierre imagine      1     __label__1   \n",
       "1  jones act immediately lift help texas florida ...      1     __label__1   \n",
       "2  long church keep prevent lord call woman sacra...      0     __label__0   \n",
       "\n",
       "                            toxic_label_comment_text  \n",
       "0  __label__1 trudeau with a brain i assume you b...  \n",
       "1  __label__1 the jones act be immediately lift t...  \n",
       "2  __label__0 as long as the church keep prevent ...  "
      ]
     },
     "execution_count": 8,
     "metadata": {},
     "output_type": "execute_result"
    }
   ],
   "source": [
    "df['toxic_label_comment_text'] = df['toxic_label_ft'] + \" \" + df['clean_pp_lemma']\n",
    "df.head(3)"
   ]
  },
  {
   "cell_type": "markdown",
   "metadata": {},
   "source": [
    "## Split and train for the fast text model"
   ]
  },
  {
   "cell_type": "code",
   "execution_count": 9,
   "metadata": {},
   "outputs": [],
   "source": [
    "train,test = train_test_split(df,test_size=0.2, random_state=42, stratify=y) "
   ]
  },
  {
   "cell_type": "code",
   "execution_count": 10,
   "metadata": {},
   "outputs": [],
   "source": [
    "train.to_csv(\"data/fasttext_train\", columns=[\"toxic_label_comment_text\"], index=False, header=False)\n",
    "test.to_csv(\"data/fasttext_test\", columns=[\"toxic_label_comment_text\"], index=False, header=False)"
   ]
  },
  {
   "cell_type": "code",
   "execution_count": 11,
   "metadata": {},
   "outputs": [
    {
     "data": {
      "text/plain": [
       "(78998, 0.8604395047975898, 0.8604395047975898)"
      ]
     },
     "execution_count": 11,
     "metadata": {},
     "output_type": "execute_result"
    }
   ],
   "source": [
    "model = fasttext.train_supervised(input=\"data/fasttext_train\", \n",
    "                                  lr=0.5, \n",
    "                                  epoch=15, \n",
    "                                  wordNgrams=2, \n",
    "                                  t=0.0001)\n",
    "model.test(\"data/fasttext_test\")"
   ]
  },
  {
   "cell_type": "code",
   "execution_count": 12,
   "metadata": {},
   "outputs": [],
   "source": [
    "sentence_vector = model.get_sentence_vector(\"I love all kind of people, black, gays, muslims, Christians\")"
   ]
  },
  {
   "cell_type": "code",
   "execution_count": 13,
   "metadata": {},
   "outputs": [
    {
     "data": {
      "text/plain": [
       "array([ 0.01654694, -0.0002093 ,  0.01471151,  0.00172857, -0.00078496,\n",
       "        0.0311403 , -0.03102514, -0.00949609,  0.00315739,  0.02262093,\n",
       "       -0.02799701,  0.01514469, -0.05028974, -0.00395825, -0.06888914,\n",
       "        0.01130407, -0.017983  , -0.00388614, -0.00910216,  0.00164457,\n",
       "        0.03739968,  0.04255857,  0.03685927,  0.00853041,  0.0004758 ,\n",
       "       -0.00025271, -0.02128115, -0.01046227, -0.01866019,  0.0183231 ,\n",
       "        0.00954161, -0.0117243 , -0.0450534 , -0.05547785, -0.00818254,\n",
       "       -0.00460414,  0.00583202,  0.02446175, -0.01441845, -0.01676674,\n",
       "       -0.03559923,  0.08089427,  0.0267739 ,  0.04850958,  0.09594744,\n",
       "       -0.00594079,  0.03025994, -0.02314882, -0.0060195 ,  0.01567516,\n",
       "       -0.01482827,  0.01257842, -0.02262961,  0.01042524,  0.00081162,\n",
       "       -0.02376285, -0.01666445, -0.00335703,  0.01743778, -0.00055778,\n",
       "       -0.01768005,  0.0367616 ,  0.01363739,  0.014525  , -0.00193496,\n",
       "        0.01369014, -0.02259143,  0.02415279, -0.00957898,  0.02478327,\n",
       "       -0.02297834,  0.01840971,  0.00552913, -0.02925253, -0.01825995,\n",
       "        0.01015121,  0.01247671, -0.01311437,  0.01951957, -0.04196982,\n",
       "        0.04154037, -0.01118874,  0.01818791, -0.00727329,  0.04884073,\n",
       "        0.00609522,  0.04824619,  0.02933929,  0.01231192, -0.01158585,\n",
       "        0.01815024,  0.00647921,  0.03428702, -0.01851954, -0.02045791,\n",
       "       -0.06452821, -0.02055102,  0.01457568, -0.02285157, -0.07759355],\n",
       "      dtype=float32)"
      ]
     },
     "execution_count": 13,
     "metadata": {},
     "output_type": "execute_result"
    }
   ],
   "source": [
    "sentence_vector"
   ]
  },
  {
   "cell_type": "code",
   "execution_count": 17,
   "metadata": {},
   "outputs": [
    {
     "data": {
      "text/plain": [
       "(('__label__0',), array([1.00001001]))"
      ]
     },
     "execution_count": 17,
     "metadata": {},
     "output_type": "execute_result"
    }
   ],
   "source": [
    "model.predict(\"I love all kind of people, black, gays, muslims, Christians\")"
   ]
  },
  {
   "cell_type": "code",
   "execution_count": 18,
   "metadata": {},
   "outputs": [
    {
     "data": {
      "text/plain": [
       "(('__label__1',), array([0.76616818]))"
      ]
     },
     "execution_count": 18,
     "metadata": {},
     "output_type": "execute_result"
    }
   ],
   "source": [
    "model.predict(\"Idiots! I hate you\")"
   ]
  },
  {
   "cell_type": "code",
   "execution_count": 29,
   "metadata": {},
   "outputs": [],
   "source": [
    "# Load the test data\n",
    "test_df = pd.read_csv(\"data/fasttext_test\", header=None)"
   ]
  },
  {
   "cell_type": "code",
   "execution_count": 30,
   "metadata": {},
   "outputs": [
    {
     "data": {
      "text/html": [
       "<div>\n",
       "<style scoped>\n",
       "    .dataframe tbody tr th:only-of-type {\n",
       "        vertical-align: middle;\n",
       "    }\n",
       "\n",
       "    .dataframe tbody tr th {\n",
       "        vertical-align: top;\n",
       "    }\n",
       "\n",
       "    .dataframe thead th {\n",
       "        text-align: right;\n",
       "    }\n",
       "</style>\n",
       "<table border=\"1\" class=\"dataframe\">\n",
       "  <thead>\n",
       "    <tr style=\"text-align: right;\">\n",
       "      <th></th>\n",
       "      <th>0</th>\n",
       "    </tr>\n",
       "  </thead>\n",
       "  <tbody>\n",
       "    <tr>\n",
       "      <th>0</th>\n",
       "      <td>__label__1 never underestimate the stupidity o...</td>\n",
       "    </tr>\n",
       "    <tr>\n",
       "      <th>1</th>\n",
       "      <td>__label__1 noise that tired old navy statement...</td>\n",
       "    </tr>\n",
       "    <tr>\n",
       "      <th>2</th>\n",
       "      <td>__label__1 where be our feminist pm and why be...</td>\n",
       "    </tr>\n",
       "    <tr>\n",
       "      <th>3</th>\n",
       "      <td>__label__1 mayor berkowitz a hypocrite yes the...</td>\n",
       "    </tr>\n",
       "    <tr>\n",
       "      <th>4</th>\n",
       "      <td>__label__1 it be chretien and martin as the ba...</td>\n",
       "    </tr>\n",
       "    <tr>\n",
       "      <th>...</th>\n",
       "      <td>...</td>\n",
       "    </tr>\n",
       "    <tr>\n",
       "      <th>79682</th>\n",
       "      <td>__label__0 i guess it be safe if you do not ha...</td>\n",
       "    </tr>\n",
       "    <tr>\n",
       "      <th>79683</th>\n",
       "      <td>__label__0 speak the truth be no way to garner...</td>\n",
       "    </tr>\n",
       "    <tr>\n",
       "      <th>79684</th>\n",
       "      <td>__label__1 so senseless and so tragic no paren...</td>\n",
       "    </tr>\n",
       "    <tr>\n",
       "      <th>79685</th>\n",
       "      <td>__label__1 on the basis of your ignorance then...</td>\n",
       "    </tr>\n",
       "    <tr>\n",
       "      <th>79686</th>\n",
       "      <td>__label__0 i be pretty sure crossfire pay noth...</td>\n",
       "    </tr>\n",
       "  </tbody>\n",
       "</table>\n",
       "<p>79687 rows × 1 columns</p>\n",
       "</div>"
      ],
      "text/plain": [
       "                                                       0\n",
       "0      __label__1 never underestimate the stupidity o...\n",
       "1      __label__1 noise that tired old navy statement...\n",
       "2      __label__1 where be our feminist pm and why be...\n",
       "3      __label__1 mayor berkowitz a hypocrite yes the...\n",
       "4      __label__1 it be chretien and martin as the ba...\n",
       "...                                                  ...\n",
       "79682  __label__0 i guess it be safe if you do not ha...\n",
       "79683  __label__0 speak the truth be no way to garner...\n",
       "79684  __label__1 so senseless and so tragic no paren...\n",
       "79685  __label__1 on the basis of your ignorance then...\n",
       "79686  __label__0 i be pretty sure crossfire pay noth...\n",
       "\n",
       "[79687 rows x 1 columns]"
      ]
     },
     "execution_count": 30,
     "metadata": {},
     "output_type": "execute_result"
    }
   ],
   "source": [
    "test_df"
   ]
  },
  {
   "cell_type": "code",
   "execution_count": 31,
   "metadata": {},
   "outputs": [],
   "source": [
    "true_labels = test_df[0].apply(lambda x: 1 if x.split()[0] == '__label__1' else 0).tolist()"
   ]
  },
  {
   "cell_type": "code",
   "execution_count": 33,
   "metadata": {},
   "outputs": [],
   "source": [
    "# Predict labels for the test data\n",
    "predicted_labels = []\n",
    "for index, row in test_df.iterrows():\n",
    "    label, _ = model.predict(\" \".join(row[0].split()[1:]))  # Exclude the label from the text\n",
    "    predicted_labels.append(1 if label[0] == '__label__1' else 0)"
   ]
  },
  {
   "cell_type": "code",
   "execution_count": 35,
   "metadata": {},
   "outputs": [
    {
     "data": {
      "image/png": "[encoded data removed]",
      "text/plain": [
       "<Figure size 800x600 with 2 Axes>"
      ]
     },
     "metadata": {},
     "output_type": "display_data"
    }
   ],
   "source": [
    "# Compute the confusion matrix\n",
    "conf_matrix = confusion_matrix(true_labels, predicted_labels)\n",
    "# Create a heatmap\n",
    "plt.figure(figsize=(8, 6))\n",
    "sns.heatmap(conf_matrix, annot=True, fmt='d', cmap='Blues', xticklabels=['Non-Toxic', 'Toxic'], yticklabels=['Non-Toxic', 'Toxic'])\n",
    "plt.title('Confusion Matrix')\n",
    "plt.ylabel('Actual Labels')\n",
    "plt.xlabel('Predicted Labels')\n",
    "plt.show()"
   ]
  },
  {
   "cell_type": "code",
   "execution_count": null,
   "metadata": {},
   "outputs": [],
   "source": []
  }
 ],
 "metadata": {
  "kernelspec": {
   "display_name": "Python 3 (ipykernel)",
   "language": "python",
   "name": "python3"
  },
  "language_info": {
   "codemirror_mode": {
    "name": "ipython",
    "version": 3
   },
   "file_extension": ".py",
   "mimetype": "text/x-python",
   "name": "python",
   "nbconvert_exporter": "python",
   "pygments_lexer": "ipython3",
   "version": "3.11.5"
  }
 },
 "nbformat": 4,
 "nbformat_minor": 4
}
